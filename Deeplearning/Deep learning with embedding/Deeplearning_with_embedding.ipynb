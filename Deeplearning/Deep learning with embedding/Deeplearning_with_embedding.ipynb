{
 "cells": [
  {
   "cell_type": "code",
   "execution_count": 1,
   "id": "001b290b",
   "metadata": {},
   "outputs": [
    {
     "name": "stderr",
     "output_type": "stream",
     "text": [
      "2023-11-21 07:07:50.593544: I tensorflow/core/platform/cpu_feature_guard.cc:182] This TensorFlow binary is optimized to use available CPU instructions in performance-critical operations.\n",
      "To enable the following instructions: AVX2 FMA, in other operations, rebuild TensorFlow with the appropriate compiler flags.\n"
     ]
    }
   ],
   "source": [
    "import numpy as np \n",
    "import pandas as pd \n",
    "pd.set_option('display.max_colwidth', None)\n",
    "from time import time\n",
    "import re\n",
    "import string\n",
    "import os\n",
    "import emoji\n",
    "from pprint import pprint\n",
    "import collections\n",
    "\n",
    "import matplotlib.pyplot as plt\n",
    "import seaborn as sns\n",
    "\n",
    "sns.set(style='whitegrid', palette='muted', font_scale=1.2)\n",
    "HAPPY_COLORS_PALETTE = [\"#01BEFE\", \"#FFDD00\", \"#FF7D00\", \"#FF006D\", \"#ADFF02\", \"#8F00FF\"]\n",
    "sns.set_palette(sns.color_palette(HAPPY_COLORS_PALETTE))\n",
    "\n",
    "from sklearn.base import BaseEstimator, TransformerMixin\n",
    "from sklearn.feature_extraction.text import CountVectorizer\n",
    "from sklearn.feature_extraction.text import TfidfVectorizer\n",
    "from sklearn.model_selection import GridSearchCV\n",
    "from sklearn.model_selection import train_test_split\n",
    "from sklearn.pipeline import Pipeline, FeatureUnion\n",
    "from sklearn.metrics import classification_report\n",
    "\n",
    "\n",
    "from tensorflow.keras.preprocessing.text import Tokenizer\n",
    "\n",
    "\n",
    "import joblib\n",
    "\n",
    "import gensim\n",
    "\n",
    "\n",
    "from nltk.tokenize import word_tokenize\n",
    "from hausastemmer import HausaStemmer\n",
    "from sklearn.metrics import classification_report, confusion_matrix\n",
    "import seaborn as sns\n"
   ]
  },
  {
   "cell_type": "code",
   "execution_count": null,
   "id": "a908cbca",
   "metadata": {},
   "outputs": [],
   "source": []
  },
  {
   "cell_type": "code",
   "execution_count": null,
   "metadata": {},
   "outputs": [],
   "source": []
  },
  {
   "cell_type": "markdown",
   "metadata": {},
   "source": [
    "## import the data"
   ]
  },
  {
   "cell_type": "code",
   "execution_count": 3,
   "id": "b36998bc",
   "metadata": {},
   "outputs": [
    {
     "data": {
      "text/html": [
       "<div>\n",
       "<style scoped>\n",
       "    .dataframe tbody tr th:only-of-type {\n",
       "        vertical-align: middle;\n",
       "    }\n",
       "\n",
       "    .dataframe tbody tr th {\n",
       "        vertical-align: top;\n",
       "    }\n",
       "\n",
       "    .dataframe thead th {\n",
       "        text-align: right;\n",
       "    }\n",
       "</style>\n",
       "<table border=\"1\" class=\"dataframe\">\n",
       "  <thead>\n",
       "    <tr style=\"text-align: right;\">\n",
       "      <th></th>\n",
       "      <th>ID</th>\n",
       "      <th>tweet</th>\n",
       "      <th>label</th>\n",
       "    </tr>\n",
       "  </thead>\n",
       "  <tbody>\n",
       "    <tr>\n",
       "      <th>0</th>\n",
       "      <td>ha_train_00001</td>\n",
       "      <td>@user Da kudin da Arewa babu wani abin azo agani da yayi wa alummah allah ya isa yacucemu wlh yarikitamana kasa yarikitamana kasuwanci harkar ilimi harkar lfy hanyoyi babu lantarki dasuransu komai yalalace ga cinhanci da rashawa a fili ko ina a Nigeria jamiyaryar su tabataman mlm 😭🗣</td>\n",
       "      <td>negative</td>\n",
       "    </tr>\n",
       "    <tr>\n",
       "      <th>1</th>\n",
       "      <td>ha_train_00002</td>\n",
       "      <td>@user Kaga wani Adu ar Banda💔😭 wai a haka Shi ne shugaban sojoji.... Gaskiya Buhari kaci Amanan mu da kasa wannan mutum ah wajen nan</td>\n",
       "      <td>negative</td>\n",
       "    </tr>\n",
       "    <tr>\n",
       "      <th>2</th>\n",
       "      <td>ha_train_00003</td>\n",
       "      <td>@user Sai haquri fa yan madrid daman kunce champion din ya muku yawa😂</td>\n",
       "      <td>negative</td>\n",
       "    </tr>\n",
       "    <tr>\n",
       "      <th>3</th>\n",
       "      <td>ha_train_00004</td>\n",
       "      <td>@user Hmmm yanzu kai kasan girman allah daxakace mukuma ga Allah kune kukabarshi kuna karyata ayoyinsa kace allah baya karbar adduar talakan nigeria 🇳🇬 bayan kunzalunceshi kuma allah ya karbar adduar wanda aka zalunta cikin sauri amma kace wai Allah baya karbar addua talakawa</td>\n",
       "      <td>negative</td>\n",
       "    </tr>\n",
       "    <tr>\n",
       "      <th>4</th>\n",
       "      <td>ha_train_00005</td>\n",
       "      <td>@user @user Wai gwamno nin Nigeria suna afa kwayoyi ko 😂</td>\n",
       "      <td>negative</td>\n",
       "    </tr>\n",
       "  </tbody>\n",
       "</table>\n",
       "</div>"
      ],
      "text/plain": [
       "               ID  \\\n",
       "0  ha_train_00001   \n",
       "1  ha_train_00002   \n",
       "2  ha_train_00003   \n",
       "3  ha_train_00004   \n",
       "4  ha_train_00005   \n",
       "\n",
       "                                                                                                                                                                                                                                                                                         tweet  \\\n",
       "0  @user Da kudin da Arewa babu wani abin azo agani da yayi wa alummah allah ya isa yacucemu wlh yarikitamana kasa yarikitamana kasuwanci harkar ilimi harkar lfy hanyoyi babu lantarki dasuransu komai yalalace ga cinhanci da rashawa a fili ko ina a Nigeria jamiyaryar su tabataman mlm 😭🗣   \n",
       "1                                                                                                                                                         @user Kaga wani Adu ar Banda💔😭 wai a haka Shi ne shugaban sojoji.... Gaskiya Buhari kaci Amanan mu da kasa wannan mutum ah wajen nan   \n",
       "2                                                                                                                                                                                                                        @user Sai haquri fa yan madrid daman kunce champion din ya muku yawa😂   \n",
       "3         @user Hmmm yanzu kai kasan girman allah daxakace mukuma ga Allah kune kukabarshi kuna karyata ayoyinsa kace allah baya karbar adduar talakan nigeria 🇳🇬 bayan kunzalunceshi kuma allah ya karbar adduar wanda aka zalunta cikin sauri amma kace wai Allah baya karbar addua talakawa   \n",
       "4                                                                                                                                                                                                                                     @user @user Wai gwamno nin Nigeria suna afa kwayoyi ko 😂   \n",
       "\n",
       "      label  \n",
       "0  negative  \n",
       "1  negative  \n",
       "2  negative  \n",
       "3  negative  \n",
       "4  negative  "
      ]
     },
     "execution_count": 3,
     "metadata": {},
     "output_type": "execute_result"
    }
   ],
   "source": [
    "df1 = pd.read_table('ha_train.tsv')\n",
    "df2 = pd.read_table('ha_dev_gold_label.tsv')\n",
    "df = pd.concat([df1, df2],ignore_index=True)\n",
    "df.head()"
   ]
  },
  {
   "cell_type": "markdown",
   "id": "9956daff",
   "metadata": {},
   "source": [
    "## EDA"
   ]
  },
  {
   "cell_type": "code",
   "execution_count": 4,
   "id": "8bf9f82f",
   "metadata": {},
   "outputs": [
    {
     "name": "stdout",
     "output_type": "stream",
     "text": [
      "<class 'pandas.core.frame.DataFrame'>\n",
      "RangeIndex: 16849 entries, 0 to 16848\n",
      "Data columns (total 3 columns):\n",
      " #   Column  Non-Null Count  Dtype \n",
      "---  ------  --------------  ----- \n",
      " 0   ID      16849 non-null  object\n",
      " 1   tweet   16849 non-null  object\n",
      " 2   label   16849 non-null  object\n",
      "dtypes: object(3)\n",
      "memory usage: 395.0+ KB\n"
     ]
    }
   ],
   "source": [
    "df.info()"
   ]
  },
  {
   "cell_type": "markdown",
   "id": "ab8a2eff",
   "metadata": {},
   "source": [
    "The column"
   ]
  },
  {
   "cell_type": "code",
   "execution_count": 5,
   "id": "1afc93ef",
   "metadata": {},
   "outputs": [
    {
     "data": {
      "text/plain": [
       "neutral     5808\n",
       "positive    5574\n",
       "negative    5467\n",
       "Name: label, dtype: int64"
      ]
     },
     "execution_count": 5,
     "metadata": {},
     "output_type": "execute_result"
    }
   ],
   "source": [
    "df['label'].value_counts()"
   ]
  },
  {
   "cell_type": "code",
   "execution_count": 6,
   "id": "1366a422",
   "metadata": {},
   "outputs": [
    {
     "data": {
      "text/plain": [
       "0"
      ]
     },
     "execution_count": 6,
     "metadata": {},
     "output_type": "execute_result"
    }
   ],
   "source": [
    "df['label'].isnull().sum()"
   ]
  },
  {
   "cell_type": "code",
   "execution_count": 7,
   "id": "c9939582",
   "metadata": {},
   "outputs": [
    {
     "data": {
      "image/png": "[encoded data removed]",
      "text/plain": [
       "<Figure size 648x432 with 1 Axes>"
      ]
     },
     "metadata": {},
     "output_type": "display_data"
    }
   ],
   "source": [
    "ax = sns.catplot(x=\"label\", data=df, kind=\"count\", height=6, aspect=1.5)\n",
    "plt.show();"
   ]
  },
  {
   "cell_type": "code",
   "execution_count": 8,
   "id": "a0517732",
   "metadata": {},
   "outputs": [],
   "source": [
    "class_mapping = {'negative':0,'neutral':1,'positive':2}\n",
    "df['label'] = df['label'].map(class_mapping)\n",
    "class_names =['negative','neutal','positive']"
   ]
  },
  {
   "cell_type": "markdown",
   "id": "c3e3996d",
   "metadata": {},
   "source": [
    "    The tweets column\n"
   ]
  },
  {
   "cell_type": "markdown",
   "id": "23e1ca4f",
   "metadata": {},
   "source": [
    "To analyze the text variable we create a class **TextCounts**. In this class we compute some basic statistics on the text variable. This class can be used later in a Pipeline, as well.\n",
    "\n",
    "* **count_words** : number of words in the tweet\n",
    "\n",
    "* **count_hashtags** : number of tag words, preceded by a #\n",
    "* **count_capital_words** : number of uppercase words, could be used to *\"shout\"* and express (negative) emotions\n",
    "* **count_excl_quest_marks** : number of question or exclamation marks\n",
    "* **count_urls** : number of links in the tweet, preceded by http(s)\n",
    "* **count_emojis** : number of emoji, which might be a good indication of the sentiment"
   ]
  },
  {
   "cell_type": "code",
   "execution_count": 9,
   "id": "7ea80ed7",
   "metadata": {},
   "outputs": [],
   "source": [
    "class TextCounts(BaseEstimator, TransformerMixin):\n",
    "    \n",
    "    def count_regex(self, pattern, tweet):\n",
    "        return len(re.findall(pattern, tweet))\n",
    "    \n",
    "    def fit(self, X, y=None, **fit_params):\n",
    "        # fit method is used when specific operations need to be done on the train data, but not on the test data\n",
    "        return self\n",
    "    \n",
    "    def transform(self, X, **transform_params):\n",
    "        count_words = X.apply(lambda x: self.count_regex(r'\\w+', x)) \n",
    "        count_hashtags = X.apply(lambda x: self.count_regex(r'#\\w+', x))\n",
    "        count_capital_words = X.apply(lambda x: self.count_regex(r'\\b[A-Z]{2,}\\b', x))\n",
    "        count_excl_quest_marks = X.apply(lambda x: self.count_regex(r'!|\\?', x))\n",
    "        count_urls = X.apply(lambda x: self.count_regex(r'http.?://[^\\s]+[\\s]?', x))\n",
    "        # We will replace the emoji symbols with a description, which makes using a regex for counting easier\n",
    "        # Moreover, it will result in having more words in the tweet\n",
    "        count_emojis = X.apply(lambda x: emoji.demojize(x)).apply(lambda x: self.count_regex(r':[a-z_&]+:', x))\n",
    "        \n",
    "        df = pd.DataFrame({'count_words': count_words\n",
    "                        \n",
    "                           , 'count_hashtags': count_hashtags\n",
    "                           , 'count_capital_words': count_capital_words\n",
    "                           , 'count_excl_quest_marks': count_excl_quest_marks\n",
    "                           , 'count_urls': count_urls\n",
    "                           , 'count_emojis': count_emojis\n",
    "                          })\n",
    "        \n",
    "        return df"
   ]
  },
  {
   "cell_type": "code",
   "execution_count": 10,
   "id": "d53a4982",
   "metadata": {},
   "outputs": [],
   "source": [
    "tc = TextCounts()\n",
    "df_eda = tc.fit_transform(df.tweet)\n",
    "\n",
    "df_eda['label'] = df['label']"
   ]
  },
  {
   "cell_type": "code",
   "execution_count": 11,
   "id": "dbba9c6c",
   "metadata": {},
   "outputs": [
    {
     "name": "stdout",
     "output_type": "stream",
     "text": [
      "Descriptive stats for count_words\n",
      "---------------------------------\n",
      "        count       mean        std  min  25%   50%   75%   max\n",
      "label                                                          \n",
      "0      5467.0  16.351747  11.482647  4.0  8.0  13.0  21.0  60.0\n",
      "1      5808.0  11.175103   7.600890  4.0  6.0   9.0  13.0  56.0\n",
      "2      5574.0  14.177610   9.904099  3.0  7.0  11.0  18.0  61.0\n"
     ]
    },
    {
     "data": {
      "image/png": "[encoded data removed]",
      "text/plain": [
       "<Figure size 1080x360 with 3 Axes>"
      ]
     },
     "metadata": {},
     "output_type": "display_data"
    }
   ],
   "source": [
    "def show_hist(df, col):\n",
    "    print('Descriptive stats for {}'.format(col))\n",
    "    print('-'*(len(col)+22))\n",
    "    print(df.groupby('label')[col].describe())\n",
    "    bins = np.arange(df[col].min(), df[col].max() + 1)\n",
    "    g = sns.FacetGrid(df, col='label', height=5, hue='label')\n",
    "    g = g.map(sns.histplot, col, kde=False, bins=bins)\n",
    "    plt.show()\n",
    "   \n",
    "show_hist(df_eda, 'count_words')"
   ]
  },
  {
   "cell_type": "code",
   "execution_count": 14,
   "id": "7ce24612",
   "metadata": {},
   "outputs": [
    {
     "name": "stdout",
     "output_type": "stream",
     "text": [
      "Descriptive stats for count_hashtags\n",
      "------------------------------------\n",
      "        count      mean       std  min  25%  50%  75%   max\n",
      "label                                                      \n",
      "0      5467.0  0.026340  0.215655  0.0  0.0  0.0  0.0   6.0\n",
      "1      5808.0  0.032886  0.332686  0.0  0.0  0.0  0.0  14.0\n",
      "2      5574.0  0.034266  0.232962  0.0  0.0  0.0  0.0   4.0\n"
     ]
    },
    {
     "data": {
      "image/png": "[encoded data removed]",
      "text/plain": [
       "<Figure size 1080x360 with 3 Axes>"
      ]
     },
     "metadata": {},
     "output_type": "display_data"
    }
   ],
   "source": [
    "show_hist(df_eda, 'count_hashtags')"
   ]
  },
  {
   "cell_type": "code",
   "execution_count": 15,
   "id": "1093f977",
   "metadata": {},
   "outputs": [
    {
     "name": "stdout",
     "output_type": "stream",
     "text": [
      "Descriptive stats for count_capital_words\n",
      "-----------------------------------------\n",
      "        count      mean       std  min  25%  50%  75%   max\n",
      "label                                                      \n",
      "0      5467.0  0.168831  1.122987  0.0  0.0  0.0  0.0  31.0\n",
      "1      5808.0  0.146006  1.027786  0.0  0.0  0.0  0.0  41.0\n",
      "2      5574.0  0.188913  1.316439  0.0  0.0  0.0  0.0  51.0\n"
     ]
    },
    {
     "data": {
      "image/png": "[encoded data removed]",
      "text/plain": [
       "<Figure size 1080x360 with 3 Axes>"
      ]
     },
     "metadata": {},
     "output_type": "display_data"
    }
   ],
   "source": [
    "show_hist(df_eda, 'count_capital_words')"
   ]
  },
  {
   "cell_type": "code",
   "execution_count": 16,
   "id": "9ff90449",
   "metadata": {},
   "outputs": [
    {
     "name": "stdout",
     "output_type": "stream",
     "text": [
      "Descriptive stats for count_excl_quest_marks\n",
      "--------------------------------------------\n",
      "        count      mean       std  min  25%  50%  75%   max\n",
      "label                                                      \n",
      "0      5467.0  0.213097  0.707591  0.0  0.0  0.0  0.0  11.0\n",
      "1      5808.0  0.192665  0.610652  0.0  0.0  0.0  0.0  12.0\n",
      "2      5574.0  0.108001  0.549535  0.0  0.0  0.0  0.0  19.0\n"
     ]
    },
    {
     "data": {
      "image/png": "[encoded data removed]",
      "text/plain": [
       "<Figure size 1080x360 with 3 Axes>"
      ]
     },
     "metadata": {},
     "output_type": "display_data"
    }
   ],
   "source": [
    "show_hist(df_eda, 'count_excl_quest_marks')"
   ]
  },
  {
   "cell_type": "code",
   "execution_count": 17,
   "id": "f4a4f952",
   "metadata": {},
   "outputs": [
    {
     "name": "stdout",
     "output_type": "stream",
     "text": [
      "Descriptive stats for count_urls\n",
      "--------------------------------\n",
      "        count      mean       std  min  25%  50%  75%  max\n",
      "label                                                     \n",
      "0      5467.0  0.027986  0.173594  0.0  0.0  0.0  0.0  2.0\n",
      "1      5808.0  0.040461  0.213014  0.0  0.0  0.0  0.0  3.0\n",
      "2      5574.0  0.027987  0.170303  0.0  0.0  0.0  0.0  2.0\n"
     ]
    },
    {
     "data": {
      "image/png": "[encoded data removed]",
      "text/plain": [
       "<Figure size 1080x360 with 3 Axes>"
      ]
     },
     "metadata": {},
     "output_type": "display_data"
    }
   ],
   "source": [
    "show_hist(df_eda, 'count_urls')"
   ]
  },
  {
   "cell_type": "code",
   "execution_count": 18,
   "id": "d7c75a30",
   "metadata": {},
   "outputs": [
    {
     "name": "stdout",
     "output_type": "stream",
     "text": [
      "Descriptive stats for count_emojis\n",
      "----------------------------------\n",
      "        count      mean       std  min  25%  50%  75%    max\n",
      "label                                                       \n",
      "0      5467.0  2.198646  2.875457  0.0  1.0  2.0  3.0  126.0\n",
      "1      5808.0  1.966942  1.691746  0.0  1.0  1.0  3.0   32.0\n",
      "2      5574.0  1.994080  2.235177  0.0  1.0  1.0  3.0   88.0\n"
     ]
    },
    {
     "data": {
      "image/png": "[encoded data removed]",
      "text/plain": [
       "<Figure size 1080x360 with 3 Axes>"
      ]
     },
     "metadata": {},
     "output_type": "display_data"
    }
   ],
   "source": [
    "show_hist(df_eda, 'count_emojis')"
   ]
  },
  {
   "cell_type": "markdown",
   "id": "cfb1c6b2",
   "metadata": {},
   "source": [
    "Code-mixed handling"
   ]
  },
  {
   "cell_type": "markdown",
   "id": "93e9d65b",
   "metadata": {},
   "source": [
    "This is handle in the other notebook separately\n"
   ]
  },
  {
   "cell_type": "code",
   "execution_count": null,
   "id": "f8dcb9d3",
   "metadata": {},
   "outputs": [],
   "source": []
  },
  {
   "cell_type": "markdown",
   "id": "ce939f76",
   "metadata": {},
   "source": [
    "**CONCLUSIONS: **\n",
    "* **The number of words** used in the tweets is rater low. Minimun number of words is 3.\n",
    "* Most of the tweets do not contain **hash tags**. So probably this variable will not be retained during model training.\n",
    "* Most of the tweets do not contain **capitalized words** and we do not see a difference in distribution between the sentiments.\n",
    "* The positive tweets seem to be using a bit more **exclamation or question marks**.\n",
    "* Only few tweets do not contain a **URL**. \n"
   ]
  },
  {
   "cell_type": "markdown",
   "id": "524ceeb6",
   "metadata": {},
   "source": [
    "# Text Cleaning\n",
    "Before we start using the tweets' text we clean it. We'll do the this in the class CleanText:\n",
    "remove the **hash tag sign**\n",
    "set all words to **lowercase**\n",
    "remove all **punctuations**, including the question and exclamation marks\n",
    "remove the **urls** as they do not contain useful information and we did not notice a distinction in the number of urls used between the sentiment classes.\n",
    "remove **digits**\n",
    "remove **stopwords**\n",
    "apply the **Our Hausastemmer** to keep the stem of the words"
   ]
  },
  {
   "cell_type": "code",
   "execution_count": 32,
   "id": "532481be",
   "metadata": {},
   "outputs": [],
   "source": [
    "class CleanText(BaseEstimator, TransformerMixin):\n",
    "   \n",
    "    def remove_mentions(self, input_text):\n",
    "        return re.sub(r'@\\w+', '', input_text)\n",
    "    \n",
    "    def remove_urls(self, input_text):\n",
    "        return re.sub(r'http.?://[^\\s]+[\\s]?', '', input_text)\n",
    "    \n",
    "    def emoji_oneword(self, input_text):\n",
    "        # By compressing the underscore, the emoji is kept as one word\n",
    "        return input_text.replace('_','')\n",
    "    \n",
    "    def remove_punctuation(self, input_text):\n",
    "        # Make translation table\n",
    "        punct = string.punctuation\n",
    "        trantab = str.maketrans(punct, len(punct)*' ')  # Every punctuation symbol will be replaced by a space\n",
    "        return input_text.translate(trantab)\n",
    "\n",
    "    def remove_digits(self, input_text):\n",
    "        return re.sub('\\d+', '', input_text)\n",
    "    \n",
    "    def remove_stopwords(self, input_text):\n",
    "            \n",
    "        # This stop are a gotting from the different online repositories as there is no standardation on the Huasa stopword.\n",
    "        stopwords_list = ['a', 'amma', 'ba', 'ban', 'ce', 'cikin', 'da', 'don', 'ga', 'in', 'ina', 'ita', 'ji', 'ka', 'ko', 'kuma', 'lokacin', 'ma', 'mai', 'na', 'ne', 'ni', 'sai', 'shi', 'su', 'suka', 'sun', 'ta', 'tafi', 'take', 'tana', 'wani', 'wannan', 'wata', 'ya', 'yake', 'yana', 'yi', 'za']\n",
    "        \n",
    "        # This stop are a gotting from the different online repositories as there is no standardation on the Huasa stopword.\n",
    "        words = input_text.split()\n",
    "        clean_words = [w for w in words if not w in  stopwords_list]\n",
    "        return \" \".join(clean_words) \n",
    "    \n",
    "    # filterout the words that are single\n",
    "    def single_word_fillter(self, input_text):\n",
    "        \n",
    "        words = input_text.split()\n",
    "        filtered_words = [word for word in words if len(word)> 1]\n",
    "        return \" \".join(filtered_words) \n",
    "    \n",
    "    def stemming(self, input_text):\n",
    "        hausastemmer = HausaStemmer()\n",
    "        words = input_text.split() \n",
    "        stemmed_words = [ hausastemmer.stem(word) for word in words]\n",
    "        return \" \".join(stemmed_words)\n",
    "    \n",
    "    def to_lower(self, input_text):\n",
    "        return input_text.lower()\n",
    "\n",
    "    def fit(self, X, y=None, **fit_params):\n",
    "        return self\n",
    "    \n",
    "    def transform(self, X, **transform_params):\n",
    "        clean_X = X.apply(self.remove_mentions).apply(self.remove_urls).apply(self.emoji_oneword).apply(self.remove_punctuation).apply(self.remove_digits).apply(self.to_lower).apply(self.remove_stopwords).apply(self.single_word_fillter).apply(self.stemming)\n",
    "        return clean_X\n",
    "    \n"
   ]
  },
  {
   "cell_type": "code",
   "execution_count": null,
   "id": "2a3cddab",
   "metadata": {},
   "outputs": [],
   "source": [
    "#To show how the cleaned text variable will look like, here's a sample.\n",
    "ct = CleanText()\n",
    "cleaned_tweets = ct.fit_transform(df.tweet)\n",
    "df['cleaned_tweet'] = cleaned_tweets  # Add the cleaned tweets as a new column\n",
    "print(df.sample(1))\n",
    "df.to_csv('clean_hausa_tweet.csv', index= False)"
   ]
  },
  {
   "cell_type": "markdown",
   "id": "f16aad04",
   "metadata": {},
   "source": []
  },
  {
   "cell_type": "markdown",
   "metadata": {},
   "source": [
    "### checking and empty tweet after cleaning"
   ]
  },
  {
   "cell_type": "code",
   "execution_count": 48,
   "id": "dacb3c85",
   "metadata": {},
   "outputs": [
    {
     "name": "stdout",
     "output_type": "stream",
     "text": [
      "0 records have no words left after text cleaning\n"
     ]
    }
   ],
   "source": [
    "empty_clean = sr_clean == ''\n",
    "print('{} records have no words left after text cleaning'.format(sr_clean[empty_clean].count()))\n",
    "sr_clean.loc[empty_clean] = '[no_text]'"
   ]
  },
  {
   "cell_type": "code",
   "execution_count": null,
   "id": "cfdcde6d",
   "metadata": {},
   "outputs": [],
   "source": []
  },
  {
   "cell_type": "markdown",
   "id": "9d88fcf7",
   "metadata": {},
   "source": [
    "Now that we have the cleaned text of the tweets, we can have a look at what are the most frequent words. Below we'll show the top 20 words. \n",
    "\n",
    "**CONCLUSION: **Not surprisingly the most frequent word is Allah."
   ]
  },
  {
   "cell_type": "code",
   "execution_count": 49,
   "id": "4caeda9a",
   "metadata": {},
   "outputs": [
    {
     "data": {
      "image/png": "[encoded data removed]",
      "text/plain": [
       "<Figure size 1440x576 with 1 Axes>"
      ]
     },
     "metadata": {},
     "output_type": "display_data"
    }
   ],
   "source": [
    "cv = CountVectorizer()\n",
    "bow = cv.fit_transform(sr_clean)\n",
    "word_freq = dict(zip(cv.get_feature_names_out(), np.asarray(bow.sum(axis=0)).ravel()))\n",
    "word_counter = collections.Counter(word_freq)\n",
    "word_counter_df = pd.DataFrame(word_counter.most_common(20), columns = ['word', 'freq'])\n",
    "\n",
    "fig, ax = plt.subplots(figsize=(20, 8))\n",
    "bar_freq_word = sns.barplot(x=\"word\", y=\"freq\", data=word_counter_df)\n",
    "plt.show();"
   ]
  },
  {
   "cell_type": "markdown",
   "id": "a3b02dfe",
   "metadata": {},
   "source": [
    "## <a id=\"5\">Splitting the Data</a>"
   ]
  },
  {
   "cell_type": "code",
   "execution_count": 50,
   "id": "0f39f7fd",
   "metadata": {},
   "outputs": [],
   "source": [
    "# Basic packages\n",
    "import pandas as pd \n",
    "import numpy as np\n",
    "import re\n",
    "import collections\n",
    "import matplotlib.pyplot as plt\n",
    "from pathlib import Path\n",
    "\n",
    "# Packages for data preparation\n",
    "from sklearn.model_selection import train_test_split\n",
    "from nltk.corpus import stopwords\n",
    "from keras.preprocessing.text import Tokenizer\n",
    "from tensorflow.keras.preprocessing.sequence import pad_sequences\n",
    "from keras.utils.np_utils import to_categorical\n",
    "from sklearn.preprocessing import LabelEncoder\n",
    "\n",
    "# Packages for modeling\n",
    "from keras import models\n",
    "from keras import layers\n",
    "from keras import regularizers"
   ]
  },
  {
   "cell_type": "code",
   "execution_count": 80,
   "id": "217a32dc",
   "metadata": {},
   "outputs": [],
   "source": [
    "NB_WORDS = 10000  # Parameter indicating the number of words we'll put in the dictionary\n",
    "VAL_SIZE = 1000  # Size of the validation set\n",
    "NB_START_EPOCHS = 20  # Number of epochs we usually start to train with\n",
    "BATCH_SIZE = 32  # Size of the batches used in the mini-batch gradient descent\n",
    "\n",
    "GLOVE_DIM = 100  # Number of dimensions of the GloVe word embeddings\n",
    "MAX_LEN = 120  # Maximum number of words in a sequence\n",
    "LEARNING_RATE = 1e-5\n",
    "DROPOUT_RATE=0.3\n"
   ]
  },
  {
   "cell_type": "code",
   "execution_count": 52,
   "id": "d64f448f",
   "metadata": {},
   "outputs": [
    {
     "data": {
      "text/html": [
       "<div>\n",
       "<style scoped>\n",
       "    .dataframe tbody tr th:only-of-type {\n",
       "        vertical-align: middle;\n",
       "    }\n",
       "\n",
       "    .dataframe tbody tr th {\n",
       "        vertical-align: top;\n",
       "    }\n",
       "\n",
       "    .dataframe thead th {\n",
       "        text-align: right;\n",
       "    }\n",
       "</style>\n",
       "<table border=\"1\" class=\"dataframe\">\n",
       "  <thead>\n",
       "    <tr style=\"text-align: right;\">\n",
       "      <th></th>\n",
       "      <th>ID</th>\n",
       "      <th>tweet</th>\n",
       "      <th>label</th>\n",
       "      <th>token_length</th>\n",
       "      <th>cleaned_tweet</th>\n",
       "    </tr>\n",
       "  </thead>\n",
       "  <tbody>\n",
       "    <tr>\n",
       "      <th>0</th>\n",
       "      <td>ha_train_00001</td>\n",
       "      <td>@user Da kudin da Arewa babu wani abin azo agani da yayi wa alummah allah ya isa yacucemu wlh yarikitamana kasa yarikitamana kasuwanci harkar ilimi harkar lfy hanyoyi babu lantarki dasuransu komai yalalace ga cinhanci da rashawa a fili ko ina a Nigeria jamiyaryar su tabataman mlm 😭🗣</td>\n",
       "      <td>0</td>\n",
       "      <td>49</td>\n",
       "      <td>kudi arewa babu abi azo aga yayi wa alummah allah i yacucemu wlh yarikitam ka yarikitam kasuwan hark ilimi hark lfy hany babu lantar dasura kom yalalace cinhan rash fili nigeria jamiyary tabatama mlm 😭🗣</td>\n",
       "    </tr>\n",
       "    <tr>\n",
       "      <th>1</th>\n",
       "      <td>ha_train_00002</td>\n",
       "      <td>@user Kaga wani Adu ar Banda💔😭 wai a haka Shi ne shugaban sojoji.... Gaskiya Buhari kaci Amanan mu da kasa wannan mutum ah wajen nan</td>\n",
       "      <td>0</td>\n",
       "      <td>27</td>\n",
       "      <td>kaga adu  banda💔😭 w ha shugaba sojoji gaskiya buhari ka amana mu ka mutum ah waje na</td>\n",
       "    </tr>\n",
       "    <tr>\n",
       "      <th>2</th>\n",
       "      <td>ha_train_00003</td>\n",
       "      <td>@user Sai haquri fa yan madrid daman kunce champion din ya muku yawa😂</td>\n",
       "      <td>0</td>\n",
       "      <td>14</td>\n",
       "      <td>haquri  ya madrid dama kunce champio di mu yawa😂</td>\n",
       "    </tr>\n",
       "    <tr>\n",
       "      <th>3</th>\n",
       "      <td>ha_train_00004</td>\n",
       "      <td>@user Hmmm yanzu kai kasan girman allah daxakace mukuma ga Allah kune kukabarshi kuna karyata ayoyinsa kace allah baya karbar adduar talakan nigeria 🇳🇬 bayan kunzalunceshi kuma allah ya karbar adduar wanda aka zalunta cikin sauri amma kace wai Allah baya karbar addua talakawa</td>\n",
       "      <td>0</td>\n",
       "      <td>45</td>\n",
       "      <td>hmmm yanzu k kasa girma allah daxakace mukuma allah kune kukabar kuna karyata ayoyi kace allah baya karb addu talaka nigeria 🇳🇬 baya kunzalunce allah karb addu wa a zalu sauri kace w allah baya karb addua talak</td>\n",
       "    </tr>\n",
       "    <tr>\n",
       "      <th>4</th>\n",
       "      <td>ha_train_00005</td>\n",
       "      <td>@user @user Wai gwamno nin Nigeria suna afa kwayoyi ko 😂</td>\n",
       "      <td>0</td>\n",
       "      <td>13</td>\n",
       "      <td>w gwamno ni nigeria suna a kway</td>\n",
       "    </tr>\n",
       "  </tbody>\n",
       "</table>\n",
       "</div>"
      ],
      "text/plain": [
       "               ID  \\\n",
       "0  ha_train_00001   \n",
       "1  ha_train_00002   \n",
       "2  ha_train_00003   \n",
       "3  ha_train_00004   \n",
       "4  ha_train_00005   \n",
       "\n",
       "                                                                                                                                                                                                                                                                                         tweet  \\\n",
       "0  @user Da kudin da Arewa babu wani abin azo agani da yayi wa alummah allah ya isa yacucemu wlh yarikitamana kasa yarikitamana kasuwanci harkar ilimi harkar lfy hanyoyi babu lantarki dasuransu komai yalalace ga cinhanci da rashawa a fili ko ina a Nigeria jamiyaryar su tabataman mlm 😭🗣   \n",
       "1                                                                                                                                                         @user Kaga wani Adu ar Banda💔😭 wai a haka Shi ne shugaban sojoji.... Gaskiya Buhari kaci Amanan mu da kasa wannan mutum ah wajen nan   \n",
       "2                                                                                                                                                                                                                        @user Sai haquri fa yan madrid daman kunce champion din ya muku yawa😂   \n",
       "3         @user Hmmm yanzu kai kasan girman allah daxakace mukuma ga Allah kune kukabarshi kuna karyata ayoyinsa kace allah baya karbar adduar talakan nigeria 🇳🇬 bayan kunzalunceshi kuma allah ya karbar adduar wanda aka zalunta cikin sauri amma kace wai Allah baya karbar addua talakawa   \n",
       "4                                                                                                                                                                                                                                     @user @user Wai gwamno nin Nigeria suna afa kwayoyi ko 😂   \n",
       "\n",
       "   label  token_length  \\\n",
       "0      0            49   \n",
       "1      0            27   \n",
       "2      0            14   \n",
       "3      0            45   \n",
       "4      0            13   \n",
       "\n",
       "                                                                                                                                                                                                        cleaned_tweet  \n",
       "0          kudi arewa babu abi azo aga yayi wa alummah allah i yacucemu wlh yarikitam ka yarikitam kasuwan hark ilimi hark lfy hany babu lantar dasura kom yalalace cinhan rash fili nigeria jamiyary tabatama mlm 😭🗣  \n",
       "1                                                                                                                                kaga adu  banda💔😭 w ha shugaba sojoji gaskiya buhari ka amana mu ka mutum ah waje na  \n",
       "2                                                                                                                                                                    haquri  ya madrid dama kunce champio di mu yawa😂  \n",
       "3  hmmm yanzu k kasa girma allah daxakace mukuma allah kune kukabar kuna karyata ayoyi kace allah baya karb addu talaka nigeria 🇳🇬 baya kunzalunce allah karb addu wa a zalu sauri kace w allah baya karb addua talak  \n",
       "4                                                                                                                                                                                     w gwamno ni nigeria suna a kway  "
      ]
     },
     "execution_count": 52,
     "metadata": {},
     "output_type": "execute_result"
    }
   ],
   "source": [
    "df.head()"
   ]
  },
  {
   "cell_type": "code",
   "execution_count": 53,
   "id": "fe3fc5f8",
   "metadata": {},
   "outputs": [
    {
     "data": {
      "text/plain": [
       "Index(['ID', 'tweet', 'label', 'token_length', 'cleaned_tweet'], dtype='object')"
      ]
     },
     "execution_count": 53,
     "metadata": {},
     "output_type": "execute_result"
    }
   ],
   "source": [
    "df.columns"
   ]
  },
  {
   "cell_type": "code",
   "execution_count": 54,
   "id": "fa793b89",
   "metadata": {},
   "outputs": [
    {
     "name": "stdout",
     "output_type": "stream",
     "text": [
      "<class 'str'>    16849\n",
      "Name: cleaned_tweet, dtype: int64\n"
     ]
    }
   ],
   "source": [
    "print(df['cleaned_tweet'].apply(type).value_counts())"
   ]
  },
  {
   "cell_type": "code",
   "execution_count": 35,
   "id": "c26b6a26",
   "metadata": {},
   "outputs": [],
   "source": [
    "df = df[df['cleaned_tweet'].apply(lambda x: isinstance(x, str))]"
   ]
  },
  {
   "cell_type": "code",
   "execution_count": 55,
   "id": "9ddbfd3e",
   "metadata": {},
   "outputs": [
    {
     "name": "stdout",
     "output_type": "stream",
     "text": [
      "# Train data samples: 13479\n",
      "# Test data samples: 3370\n"
     ]
    }
   ],
   "source": [
    "X_train, X_test, y_train, y_test = train_test_split(df.cleaned_tweet, df.label, test_size=0.2, random_state=101)\n",
    "print('# Train data samples:', X_train.shape[0])\n",
    "print('# Test data samples:', X_test.shape[0])\n",
    "assert X_train.shape[0] == y_train.shape[0]\n",
    "assert X_test.shape[0] == y_test.shape[0]"
   ]
  },
  {
   "cell_type": "code",
   "execution_count": 56,
   "id": "c50dc1f1",
   "metadata": {},
   "outputs": [],
   "source": [
    "X_train = [str(x) for x in X_train]\n",
    "X_test = [str(x) for x in X_test]\n",
    "\n",
    "# Tokenize the text data\n",
    "tk = Tokenizer(num_words=NB_WORDS, split=\" \")\n",
    "tk.fit_on_texts(X_train)\n",
    "\n",
    "X_train_seq = tk.texts_to_sequences(X_train)\n",
    "X_test_seq = tk.texts_to_sequences(X_test)"
   ]
  },
  {
   "cell_type": "code",
   "execution_count": 22,
   "id": "36146f48",
   "metadata": {},
   "outputs": [],
   "source": []
  },
  {
   "cell_type": "code",
   "execution_count": 13,
   "id": "b5a76d2d",
   "metadata": {
    "scrolled": true
   },
   "outputs": [],
   "source": [
    "#seq_lengths = X_train.apply(lambda x: len(x.split(' ')))\n",
    "#seq_lengths.describe()"
   ]
  },
  {
   "cell_type": "code",
   "execution_count": 57,
   "id": "8b40eca0",
   "metadata": {},
   "outputs": [],
   "source": [
    "X_train_seq_trunc = pad_sequences(X_train_seq, maxlen=MAX_LEN, padding='post')\n",
    "X_test_seq_trunc = pad_sequences(X_test_seq, maxlen=MAX_LEN, padding='post')"
   ]
  },
  {
   "cell_type": "code",
   "execution_count": 58,
   "id": "06e8246e",
   "metadata": {},
   "outputs": [
    {
     "data": {
      "text/plain": [
       "array([   1,   45,   10,  124,  283,    1,   45,  198,   67,   69,    1,\n",
       "          2,  430,  669, 7535, 7536, 1058,  685, 1194,    0,    0,    0,\n",
       "          0,    0,    0,    0,    0,    0,    0,    0,    0,    0,    0,\n",
       "          0,    0,    0,    0,    0,    0,    0,    0,    0,    0,    0,\n",
       "          0,    0,    0,    0,    0,    0,    0,    0,    0,    0,    0,\n",
       "          0,    0,    0,    0,    0,    0,    0,    0,    0,    0,    0,\n",
       "          0,    0,    0,    0,    0,    0,    0,    0,    0,    0,    0,\n",
       "          0,    0,    0,    0,    0,    0,    0,    0,    0,    0,    0,\n",
       "          0,    0,    0,    0,    0,    0,    0,    0,    0,    0,    0,\n",
       "          0,    0,    0,    0,    0,    0,    0,    0,    0,    0,    0,\n",
       "          0,    0,    0,    0,    0,    0,    0,    0,    0,    0],\n",
       "      dtype=int32)"
      ]
     },
     "execution_count": 58,
     "metadata": {},
     "output_type": "execute_result"
    }
   ],
   "source": [
    "X_train_seq_trunc[20]  # Example of padded sequence"
   ]
  },
  {
   "cell_type": "code",
   "execution_count": 59,
   "id": "30b1feb1",
   "metadata": {},
   "outputs": [],
   "source": [
    "le = LabelEncoder()\n",
    "y_train_le = le.fit_transform(y_train)\n",
    "y_test_le = le.transform(y_test)\n",
    "y_train_oh = to_categorical(y_train_le)\n",
    "y_test_oh = to_categorical(y_test_le)"
   ]
  },
  {
   "cell_type": "code",
   "execution_count": 60,
   "id": "4868af89",
   "metadata": {},
   "outputs": [
    {
     "name": "stdout",
     "output_type": "stream",
     "text": [
      "Shape of validation set: (1348, 120)\n"
     ]
    }
   ],
   "source": [
    "X_train_emb, X_valid_emb, y_train_emb, y_valid_emb = train_test_split(X_train_seq_trunc, y_train_oh, test_size=0.1, random_state=37)\n",
    "\n",
    "assert X_valid_emb.shape[0] == y_valid_emb.shape[0]\n",
    "assert X_train_emb.shape[0] == y_train_emb.shape[0]\n",
    "\n",
    "print('Shape of validation set:',X_valid_emb.shape)"
   ]
  },
  {
   "cell_type": "markdown",
   "id": "a76a3efd",
   "metadata": {},
   "source": [
    "## Importing Pretrain GloVe"
   ]
  },
  {
   "cell_type": "code",
   "execution_count": 61,
   "id": "29baf35e",
   "metadata": {},
   "outputs": [],
   "source": [
    "glove_file = 'glove.twitter.27B.' + str(GLOVE_DIM) + 'd.txt'\n",
    "emb_dict = {}\n",
    "glove = open('glove/glove.6B.100d.txt')\n",
    "for line in glove:\n",
    "    values = line.split()\n",
    "    word = values[0]\n",
    "    vector = np.asarray(values[1:], dtype='float32')\n",
    "    emb_dict[word] = vector\n",
    "glove.close()"
   ]
  },
  {
   "cell_type": "code",
   "execution_count": 63,
   "id": "094b960c",
   "metadata": {},
   "outputs": [
    {
     "name": "stdout",
     "output_type": "stream",
     "text": [
      "Found the word baya in the dictionary\n",
      "Found the word zazzau in the dictionary\n",
      "Found the word di in the dictionary\n",
      "Found the word kamata in the dictionary\n",
      "Found the word fara in the dictionary\n",
      "Found the word nun in the dictionary\n",
      "Found the word seda in the dictionary\n",
      "Found the word ku in the dictionary\n",
      "Found the word is in the dictionary\n",
      "Found the word beautiful in the dictionary\n",
      "Found the word yad in the dictionary\n",
      "Found the word duniya in the dictionary\n",
      "Found the word sanna in the dictionary\n",
      "Found the word za in the dictionary\n",
      "Found the word nuna in the dictionary\n",
      "Found the word m in the dictionary\n",
      "Found the word zaria in the dictionary\n"
     ]
    }
   ],
   "source": [
    "Hausa_tweet = ['baya', 'zazzau', 'di', 'kamata',  'fara' ,'nun' ,'seda' ,'ku','is', 'beautiful','city'\n",
    "                 'gama', 'yad', 'duniya', 'sanna', 'za', 'dawo' , 'nuna' ,'m' ,'zaria']\n",
    "for w in Hausa_tweet:\n",
    "    if w in emb_dict.keys():\n",
    "        print('Found the word {} in the dictionary'.format(w))"
   ]
  },
  {
   "cell_type": "markdown",
   "id": "fbe300bb",
   "metadata": {},
   "source": [
    "To feed this into an Embedding layer, we need to build a matrix containing the words in the tweets and their representative word embedding. So this matrix will be of shape (NB_WORDS, GLOVE_DIM)"
   ]
  },
  {
   "cell_type": "code",
   "execution_count": 64,
   "id": "e047dbd7",
   "metadata": {},
   "outputs": [],
   "source": [
    "emb_matrix = np.zeros((NB_WORDS, GLOVE_DIM))\n",
    "\n",
    "for w, i in tk.word_index.items():\n",
    "    # The word_index contains a token for all words of the training data so we need to limit that\n",
    "    if i < NB_WORDS:\n",
    "        vect = emb_dict.get(w)\n",
    "        # Check if the word from the training data occurs in the GloVe word embeddings\n",
    "        # Otherwise the vector is kept with only zeros\n",
    "        if vect is not None:\n",
    "            emb_matrix[i] = vect\n",
    "    else:\n",
    "        break"
   ]
  },
  {
   "cell_type": "markdown",
   "id": "f64c4a70",
   "metadata": {},
   "source": [
    "With the *set_weights* method we load the pre-trained embeddings in the Embedding layer (here layer 0). By setting the *trainable* attribute to False, we make sure not to change the pre-trained embeddings."
   ]
  },
  {
   "cell_type": "code",
   "execution_count": 67,
   "id": "30e0fd08",
   "metadata": {},
   "outputs": [],
   "source": [
    "\n",
    "from sklearn.model_selection import train_test_split\n",
    "from sklearn.metrics import confusion_matrix, classification_report\n",
    "from tensorflow.keras.preprocessing.sequence import pad_sequences\n",
    "from keras.models import Sequential\n",
    "from keras.callbacks import EarlyStopping\n",
    "from tensorflow.keras.optimizers import Adam\n",
    "from keras.utils.np_utils import to_categorical\n",
    "from sklearn.preprocessing import LabelEncoder\n",
    "\n"
   ]
  },
  {
   "cell_type": "markdown",
   "id": "a5efc977",
   "metadata": {},
   "source": [
    "## TRAINING CNN MODEL"
   ]
  },
  {
   "cell_type": "code",
   "execution_count": 81,
   "id": "d75b3c2b",
   "metadata": {},
   "outputs": [
    {
     "name": "stdout",
     "output_type": "stream",
     "text": [
      "Epoch 1/20\n",
      "380/380 [==============================] - 14s 33ms/step - loss: 1.0539 - accuracy: 0.4407 - val_loss: 0.9350 - val_accuracy: 0.5786\n",
      "Epoch 2/20\n",
      "380/380 [==============================] - 12s 31ms/step - loss: 0.8880 - accuracy: 0.5857 - val_loss: 0.8720 - val_accuracy: 0.6031\n",
      "Epoch 3/20\n",
      "380/380 [==============================] - 16s 42ms/step - loss: 0.8041 - accuracy: 0.6329 - val_loss: 0.8430 - val_accuracy: 0.6135\n",
      "Epoch 4/20\n",
      "380/380 [==============================] - 17s 45ms/step - loss: 0.7107 - accuracy: 0.6874 - val_loss: 0.8330 - val_accuracy: 0.6417\n",
      "Epoch 5/20\n",
      "380/380 [==============================] - 15s 39ms/step - loss: 0.6172 - accuracy: 0.7466 - val_loss: 0.8517 - val_accuracy: 0.6506\n",
      "Epoch 6/20\n",
      "380/380 [==============================] - 15s 39ms/step - loss: 0.5402 - accuracy: 0.7823 - val_loss: 0.8958 - val_accuracy: 0.6573\n",
      "Epoch 7/20\n",
      "380/380 [==============================] - 12s 33ms/step - loss: 0.4792 - accuracy: 0.8131 - val_loss: 0.9451 - val_accuracy: 0.6439\n",
      "106/106 [==============================] - 1s 4ms/step\n",
      "========================================================================================================\n",
      "\n",
      "The CNN classification metric\n",
      "Classification Report for CNN Model:\n",
      "               precision    recall  f1-score   support\n",
      "\n",
      "           0       0.69      0.40      0.50      1087\n",
      "           1       0.55      0.82      0.66      1150\n",
      "           2       0.77      0.71      0.73      1133\n",
      "\n",
      "    accuracy                           0.64      3370\n",
      "   macro avg       0.67      0.64      0.63      3370\n",
      "weighted avg       0.67      0.64      0.64      3370\n",
      "\n",
      "========================================================================================================\n",
      "\n",
      "The CNN test loss and accuracy values\n",
      "Test loss: 0.789418637752533\n",
      "Test accuracy: 0.6445103883743286\n",
      "========================================================================================================\n",
      "\n",
      "The CNN accuracy curve\n"
     ]
    },
    {
     "data": {
      "image/png": "[encoded data removed]",
      "text/plain": [
       "<Figure size 432x288 with 1 Axes>"
      ]
     },
     "metadata": {},
     "output_type": "display_data"
    },
    {
     "name": "stdout",
     "output_type": "stream",
     "text": [
      "========================================================================================================\n",
      "The CNN classification confusion matrix\n"
     ]
    },
    {
     "data": {
      "image/png": "[encoded data removed]",
      "text/plain": [
       "<Figure size 576x432 with 2 Axes>"
      ]
     },
     "metadata": {},
     "output_type": "display_data"
    }
   ],
   "source": [
    "\n",
    "\n",
    "from keras.models import Sequential\n",
    "from keras.layers import Embedding, Conv1D, MaxPooling1D, Flatten, Dense, Dropout\n",
    "from keras.callbacks import EarlyStopping\n",
    "from nltk.corpus import stopwords\n",
    "from sklearn.metrics import classification_report\n",
    "\n",
    "\n",
    "EMBEDDING_DIM = 100  # Adjust this dimension based on your Word2Vec or GloVe model\n",
    "\n",
    "\n",
    "# Load and preprocess your data (replace 'df.tweet' and 'df.label' with your data)\n",
    "X_train, X_test, y_train, y_test = train_test_split(df.cleaned_tweet, df.label, test_size=0.2, random_state=101)\n",
    "tokenizer = Tokenizer(num_words=NB_WORDS, split=\" \")\n",
    "tokenizer.fit_on_texts(X_train)\n",
    "\n",
    "\n",
    "\n",
    "X_train_seq = pad_sequences(X_train_seq, maxlen=MAX_LEN)\n",
    "X_test_seq = pad_sequences(X_test_seq, maxlen=MAX_LEN)\n",
    "label_encoder = LabelEncoder()\n",
    "y_train = label_encoder.fit_transform(y_train)\n",
    "y_test = label_encoder.transform(y_test)\n",
    "y_train = to_categorical(y_train)\n",
    "y_test = to_categorical(y_test)\n",
    "\n",
    "\n",
    "\n",
    "\n",
    "\n",
    "# Define the CNN model\n",
    "# Define the CNN model with a smaller filter size\n",
    "cnn_model = Sequential()\n",
    "cnn_model.add(Embedding(NB_WORDS, EMBEDDING_DIM, input_length=MAX_LEN))\n",
    "cnn_model.add(Conv1D(128, 3, activation='relu'))  # Reduced filter size to 3\n",
    "cnn_model.add(MaxPooling1D(2))  # Reduced max-pooling size to 2\n",
    "cnn_model.add(Conv1D(128, 3, activation='relu'))  # Reduced filter size to 3\n",
    "cnn_model.add(MaxPooling1D(2))  # Reduced max-pooling size to 2\n",
    "cnn_model.add(Flatten())\n",
    "cnn_model.add(Dense(128, activation='relu'))\n",
    "cnn_model.add(Dropout(DROPOUT_RATE))\n",
    "cnn_model.add(Dense(3, activation='softmax'))\n",
    "\n",
    "# Compile the model\n",
    "cnn_model.compile(optimizer=Adam(learning_rate=LEARNING_RATE), \n",
    "                  loss='categorical_crossentropy', \n",
    "                  metrics=['accuracy'])\n",
    "\n",
    "# Early stopping callback\n",
    "early_stopping = EarlyStopping(monitor='val_loss', patience=3, restore_best_weights=True)\n",
    "\n",
    "# Train the model\n",
    "history = cnn_model.fit(X_train_seq, y_train, epochs=NB_START_EPOCHS, batch_size=BATCH_SIZE,\n",
    "                        validation_split=0.1, callbacks=[early_stopping], verbose=1)\n",
    "\n",
    "# Evaluate the model on test data\n",
    "loss, accuracy = cnn_model.evaluate(X_test_seq, y_test, verbose=0)\n",
    "\n",
    "# Evaluate the model on test data\n",
    "loss, accuracy = cnn_model.evaluate(X_test_seq, y_test, verbose=0)\n",
    "\n",
    "# Get predictions on the test data\n",
    "y_pred = cnn_model.predict(X_test_seq)\n",
    "y_pred_classes = np.argmax(y_pred, axis=1)  # Convert predicted probabilities to class labels\n",
    "\n",
    "print('========================================================================================================\\n')\n",
    "# Calculate and print the classification report\n",
    "print('The CNN classification metric')\n",
    "report_CNN = classification_report(np.argmax(y_test, axis=1), y_pred_classes)\n",
    "print(\"Classification Report for CNN Model:\\n\", report_CNN)\n",
    "\n",
    "print('========================================================================================================\\n')\n",
    "# Print test loss and accuracy\n",
    "print('The CNN test loss and accuracy values')\n",
    "print('Test loss:', loss)\n",
    "print('Test accuracy:', accuracy)\n",
    "\n",
    "print('========================================================================================================\\n')\n",
    "# Plot training history (optional)\n",
    "print('The CNN accuracy curve')\n",
    "plt.plot(history.history['accuracy'], label='Train Accuracy')\n",
    "plt.plot(history.history['val_accuracy'], label='Validation Accuracy')\n",
    "plt.xlabel('Epochs')\n",
    "plt.ylabel('Accuracy')\n",
    "plt.legend()\n",
    "plt.show()\n",
    "\n",
    "print('========================================================================================================')\n",
    "# Calculate the confusion matrix\n",
    "print('The CNN classification confusion matrix')\n",
    "confusion_matrix1 = confusion_matrix(np.argmax(y_test, axis=1), y_pred_classes)\n",
    "# Plot the confusion matrix as a heatmap\n",
    "plt.figure(figsize=(8, 6))\n",
    "sns.heatmap(confusion_matrix1, annot=True, fmt='d', cmap='Blues')\n",
    "plt.xlabel('Predicted class ')\n",
    "plt.ylabel('True class')\n",
    "plt.title('Confusion Matrix')\n",
    "plt.show()\n"
   ]
  },
  {
   "cell_type": "code",
   "execution_count": null,
   "id": "8aaad5a8",
   "metadata": {},
   "outputs": [],
   "source": []
  },
  {
   "cell_type": "markdown",
   "id": "ca406f0c",
   "metadata": {},
   "source": [
    "### LET TRAIN IT ON LSTM"
   ]
  },
  {
   "cell_type": "code",
   "execution_count": 79,
   "id": "87064540",
   "metadata": {
    "scrolled": false
   },
   "outputs": [
    {
     "name": "stderr",
     "output_type": "stream",
     "text": [
      "2023-11-21 10:16:57.921647: I tensorflow/core/common_runtime/executor.cc:1197] [/device:CPU:0] (DEBUG INFO) Executor start aborting (this does not indicate an error and you can ignore this message): INVALID_ARGUMENT: You must feed a value for placeholder tensor 'gradients/split_2_grad/concat/split_2/split_dim' with dtype int32\n",
      "\t [[{{node gradients/split_2_grad/concat/split_2/split_dim}}]]\n",
      "2023-11-21 10:16:57.923781: I tensorflow/core/common_runtime/executor.cc:1197] [/device:CPU:0] (DEBUG INFO) Executor start aborting (this does not indicate an error and you can ignore this message): INVALID_ARGUMENT: You must feed a value for placeholder tensor 'gradients/split_grad/concat/split/split_dim' with dtype int32\n",
      "\t [[{{node gradients/split_grad/concat/split/split_dim}}]]\n",
      "2023-11-21 10:16:57.925381: I tensorflow/core/common_runtime/executor.cc:1197] [/device:CPU:0] (DEBUG INFO) Executor start aborting (this does not indicate an error and you can ignore this message): INVALID_ARGUMENT: You must feed a value for placeholder tensor 'gradients/split_1_grad/concat/split_1/split_dim' with dtype int32\n",
      "\t [[{{node gradients/split_1_grad/concat/split_1/split_dim}}]]\n"
     ]
    },
    {
     "name": "stdout",
     "output_type": "stream",
     "text": [
      "Epoch 1/20\n"
     ]
    },
    {
     "name": "stderr",
     "output_type": "stream",
     "text": [
      "2023-11-21 10:16:58.189079: I tensorflow/core/common_runtime/executor.cc:1197] [/device:CPU:0] (DEBUG INFO) Executor start aborting (this does not indicate an error and you can ignore this message): INVALID_ARGUMENT: You must feed a value for placeholder tensor 'gradients/split_2_grad/concat/split_2/split_dim' with dtype int32\n",
      "\t [[{{node gradients/split_2_grad/concat/split_2/split_dim}}]]\n",
      "2023-11-21 10:16:58.193080: I tensorflow/core/common_runtime/executor.cc:1197] [/device:CPU:0] (DEBUG INFO) Executor start aborting (this does not indicate an error and you can ignore this message): INVALID_ARGUMENT: You must feed a value for placeholder tensor 'gradients/split_grad/concat/split/split_dim' with dtype int32\n",
      "\t [[{{node gradients/split_grad/concat/split/split_dim}}]]\n",
      "2023-11-21 10:16:58.194804: I tensorflow/core/common_runtime/executor.cc:1197] [/device:CPU:0] (DEBUG INFO) Executor start aborting (this does not indicate an error and you can ignore this message): INVALID_ARGUMENT: You must feed a value for placeholder tensor 'gradients/split_1_grad/concat/split_1/split_dim' with dtype int32\n",
      "\t [[{{node gradients/split_1_grad/concat/split_1/split_dim}}]]\n",
      "2023-11-21 10:16:58.583771: I tensorflow/core/common_runtime/executor.cc:1197] [/device:CPU:0] (DEBUG INFO) Executor start aborting (this does not indicate an error and you can ignore this message): INVALID_ARGUMENT: You must feed a value for placeholder tensor 'gradients/split_2_grad/concat/split_2/split_dim' with dtype int32\n",
      "\t [[{{node gradients/split_2_grad/concat/split_2/split_dim}}]]\n",
      "2023-11-21 10:16:58.585894: I tensorflow/core/common_runtime/executor.cc:1197] [/device:CPU:0] (DEBUG INFO) Executor start aborting (this does not indicate an error and you can ignore this message): INVALID_ARGUMENT: You must feed a value for placeholder tensor 'gradients/split_grad/concat/split/split_dim' with dtype int32\n",
      "\t [[{{node gradients/split_grad/concat/split/split_dim}}]]\n",
      "2023-11-21 10:16:58.587713: I tensorflow/core/common_runtime/executor.cc:1197] [/device:CPU:0] (DEBUG INFO) Executor start aborting (this does not indicate an error and you can ignore this message): INVALID_ARGUMENT: You must feed a value for placeholder tensor 'gradients/split_1_grad/concat/split_1/split_dim' with dtype int32\n",
      "\t [[{{node gradients/split_1_grad/concat/split_1/split_dim}}]]\n",
      "2023-11-21 10:16:58.857627: I tensorflow/core/common_runtime/executor.cc:1197] [/device:CPU:0] (DEBUG INFO) Executor start aborting (this does not indicate an error and you can ignore this message): INVALID_ARGUMENT: You must feed a value for placeholder tensor 'gradients/split_2_grad/concat/split_2/split_dim' with dtype int32\n",
      "\t [[{{node gradients/split_2_grad/concat/split_2/split_dim}}]]\n",
      "2023-11-21 10:16:58.859953: I tensorflow/core/common_runtime/executor.cc:1197] [/device:CPU:0] (DEBUG INFO) Executor start aborting (this does not indicate an error and you can ignore this message): INVALID_ARGUMENT: You must feed a value for placeholder tensor 'gradients/split_grad/concat/split/split_dim' with dtype int32\n",
      "\t [[{{node gradients/split_grad/concat/split/split_dim}}]]\n",
      "2023-11-21 10:16:58.861886: I tensorflow/core/common_runtime/executor.cc:1197] [/device:CPU:0] (DEBUG INFO) Executor start aborting (this does not indicate an error and you can ignore this message): INVALID_ARGUMENT: You must feed a value for placeholder tensor 'gradients/split_1_grad/concat/split_1/split_dim' with dtype int32\n",
      "\t [[{{node gradients/split_1_grad/concat/split_1/split_dim}}]]\n",
      "2023-11-21 10:17:00.441348: I tensorflow/core/common_runtime/executor.cc:1197] [/device:CPU:0] (DEBUG INFO) Executor start aborting (this does not indicate an error and you can ignore this message): INVALID_ARGUMENT: You must feed a value for placeholder tensor 'gradients/split_2_grad/concat/split_2/split_dim' with dtype int32\n",
      "\t [[{{node gradients/split_2_grad/concat/split_2/split_dim}}]]\n",
      "2023-11-21 10:17:00.443432: I tensorflow/core/common_runtime/executor.cc:1197] [/device:CPU:0] (DEBUG INFO) Executor start aborting (this does not indicate an error and you can ignore this message): INVALID_ARGUMENT: You must feed a value for placeholder tensor 'gradients/split_grad/concat/split/split_dim' with dtype int32\n",
      "\t [[{{node gradients/split_grad/concat/split/split_dim}}]]\n",
      "2023-11-21 10:17:00.446072: I tensorflow/core/common_runtime/executor.cc:1197] [/device:CPU:0] (DEBUG INFO) Executor start aborting (this does not indicate an error and you can ignore this message): INVALID_ARGUMENT: You must feed a value for placeholder tensor 'gradients/split_1_grad/concat/split_1/split_dim' with dtype int32\n",
      "\t [[{{node gradients/split_1_grad/concat/split_1/split_dim}}]]\n",
      "2023-11-21 10:17:00.791928: I tensorflow/core/common_runtime/executor.cc:1197] [/device:CPU:0] (DEBUG INFO) Executor start aborting (this does not indicate an error and you can ignore this message): INVALID_ARGUMENT: You must feed a value for placeholder tensor 'gradients/split_2_grad/concat/split_2/split_dim' with dtype int32\n",
      "\t [[{{node gradients/split_2_grad/concat/split_2/split_dim}}]]\n",
      "2023-11-21 10:17:00.794409: I tensorflow/core/common_runtime/executor.cc:1197] [/device:CPU:0] (DEBUG INFO) Executor start aborting (this does not indicate an error and you can ignore this message): INVALID_ARGUMENT: You must feed a value for placeholder tensor 'gradients/split_grad/concat/split/split_dim' with dtype int32\n",
      "\t [[{{node gradients/split_grad/concat/split/split_dim}}]]\n",
      "2023-11-21 10:17:00.796342: I tensorflow/core/common_runtime/executor.cc:1197] [/device:CPU:0] (DEBUG INFO) Executor start aborting (this does not indicate an error and you can ignore this message): INVALID_ARGUMENT: You must feed a value for placeholder tensor 'gradients/split_1_grad/concat/split_1/split_dim' with dtype int32\n",
      "\t [[{{node gradients/split_1_grad/concat/split_1/split_dim}}]]\n"
     ]
    },
    {
     "name": "stdout",
     "output_type": "stream",
     "text": [
      "380/380 [==============================] - ETA: 0s - loss: 1.0871 - accuracy: 0.4181"
     ]
    },
    {
     "name": "stderr",
     "output_type": "stream",
     "text": [
      "2023-11-21 10:17:34.974968: I tensorflow/core/common_runtime/executor.cc:1197] [/device:CPU:0] (DEBUG INFO) Executor start aborting (this does not indicate an error and you can ignore this message): INVALID_ARGUMENT: You must feed a value for placeholder tensor 'gradients/split_2_grad/concat/split_2/split_dim' with dtype int32\n",
      "\t [[{{node gradients/split_2_grad/concat/split_2/split_dim}}]]\n",
      "2023-11-21 10:17:34.977037: I tensorflow/core/common_runtime/executor.cc:1197] [/device:CPU:0] (DEBUG INFO) Executor start aborting (this does not indicate an error and you can ignore this message): INVALID_ARGUMENT: You must feed a value for placeholder tensor 'gradients/split_grad/concat/split/split_dim' with dtype int32\n",
      "\t [[{{node gradients/split_grad/concat/split/split_dim}}]]\n",
      "2023-11-21 10:17:34.979573: I tensorflow/core/common_runtime/executor.cc:1197] [/device:CPU:0] (DEBUG INFO) Executor start aborting (this does not indicate an error and you can ignore this message): INVALID_ARGUMENT: You must feed a value for placeholder tensor 'gradients/split_1_grad/concat/split_1/split_dim' with dtype int32\n",
      "\t [[{{node gradients/split_1_grad/concat/split_1/split_dim}}]]\n",
      "2023-11-21 10:17:35.231236: I tensorflow/core/common_runtime/executor.cc:1197] [/device:CPU:0] (DEBUG INFO) Executor start aborting (this does not indicate an error and you can ignore this message): INVALID_ARGUMENT: You must feed a value for placeholder tensor 'gradients/split_2_grad/concat/split_2/split_dim' with dtype int32\n",
      "\t [[{{node gradients/split_2_grad/concat/split_2/split_dim}}]]\n",
      "2023-11-21 10:17:35.233662: I tensorflow/core/common_runtime/executor.cc:1197] [/device:CPU:0] (DEBUG INFO) Executor start aborting (this does not indicate an error and you can ignore this message): INVALID_ARGUMENT: You must feed a value for placeholder tensor 'gradients/split_grad/concat/split/split_dim' with dtype int32\n",
      "\t [[{{node gradients/split_grad/concat/split/split_dim}}]]\n",
      "2023-11-21 10:17:35.235470: I tensorflow/core/common_runtime/executor.cc:1197] [/device:CPU:0] (DEBUG INFO) Executor start aborting (this does not indicate an error and you can ignore this message): INVALID_ARGUMENT: You must feed a value for placeholder tensor 'gradients/split_1_grad/concat/split_1/split_dim' with dtype int32\n",
      "\t [[{{node gradients/split_1_grad/concat/split_1/split_dim}}]]\n"
     ]
    },
    {
     "name": "stdout",
     "output_type": "stream",
     "text": [
      "380/380 [==============================] - 38s 88ms/step - loss: 1.0871 - accuracy: 0.4181 - val_loss: 1.0351 - val_accuracy: 0.5712\n",
      "Epoch 2/20\n",
      "380/380 [==============================] - 33s 86ms/step - loss: 0.9195 - accuracy: 0.5737 - val_loss: 0.8270 - val_accuracy: 0.6343\n",
      "Epoch 3/20\n",
      "380/380 [==============================] - 34s 91ms/step - loss: 0.7912 - accuracy: 0.6357 - val_loss: 0.7860 - val_accuracy: 0.6558\n",
      "Epoch 4/20\n",
      "380/380 [==============================] - 34s 89ms/step - loss: 0.7200 - accuracy: 0.6732 - val_loss: 0.7587 - val_accuracy: 0.6714\n",
      "Epoch 5/20\n",
      "380/380 [==============================] - 35s 93ms/step - loss: 0.6483 - accuracy: 0.7197 - val_loss: 0.7444 - val_accuracy: 0.6780\n",
      "Epoch 6/20\n",
      "380/380 [==============================] - 34s 90ms/step - loss: 0.5738 - accuracy: 0.7597 - val_loss: 0.7335 - val_accuracy: 0.7077\n",
      "Epoch 7/20\n",
      "380/380 [==============================] - 33s 87ms/step - loss: 0.5082 - accuracy: 0.7994 - val_loss: 0.7489 - val_accuracy: 0.7188\n",
      "Epoch 8/20\n",
      "380/380 [==============================] - 33s 86ms/step - loss: 0.4601 - accuracy: 0.8205 - val_loss: 0.7767 - val_accuracy: 0.7099\n",
      "Epoch 9/20\n",
      "380/380 [==============================] - 36s 94ms/step - loss: 0.4149 - accuracy: 0.8407 - val_loss: 0.8244 - val_accuracy: 0.7136\n",
      "========================================================================================================\n"
     ]
    },
    {
     "name": "stderr",
     "output_type": "stream",
     "text": [
      "2023-11-21 10:22:11.600773: I tensorflow/core/common_runtime/executor.cc:1197] [/device:CPU:0] (DEBUG INFO) Executor start aborting (this does not indicate an error and you can ignore this message): INVALID_ARGUMENT: You must feed a value for placeholder tensor 'gradients/split_2_grad/concat/split_2/split_dim' with dtype int32\n",
      "\t [[{{node gradients/split_2_grad/concat/split_2/split_dim}}]]\n",
      "2023-11-21 10:22:11.602752: I tensorflow/core/common_runtime/executor.cc:1197] [/device:CPU:0] (DEBUG INFO) Executor start aborting (this does not indicate an error and you can ignore this message): INVALID_ARGUMENT: You must feed a value for placeholder tensor 'gradients/split_grad/concat/split/split_dim' with dtype int32\n",
      "\t [[{{node gradients/split_grad/concat/split/split_dim}}]]\n",
      "2023-11-21 10:22:11.604527: I tensorflow/core/common_runtime/executor.cc:1197] [/device:CPU:0] (DEBUG INFO) Executor start aborting (this does not indicate an error and you can ignore this message): INVALID_ARGUMENT: You must feed a value for placeholder tensor 'gradients/split_1_grad/concat/split_1/split_dim' with dtype int32\n",
      "\t [[{{node gradients/split_1_grad/concat/split_1/split_dim}}]]\n",
      "2023-11-21 10:22:11.878693: I tensorflow/core/common_runtime/executor.cc:1197] [/device:CPU:0] (DEBUG INFO) Executor start aborting (this does not indicate an error and you can ignore this message): INVALID_ARGUMENT: You must feed a value for placeholder tensor 'gradients/split_2_grad/concat/split_2/split_dim' with dtype int32\n",
      "\t [[{{node gradients/split_2_grad/concat/split_2/split_dim}}]]\n",
      "2023-11-21 10:22:11.882478: I tensorflow/core/common_runtime/executor.cc:1197] [/device:CPU:0] (DEBUG INFO) Executor start aborting (this does not indicate an error and you can ignore this message): INVALID_ARGUMENT: You must feed a value for placeholder tensor 'gradients/split_grad/concat/split/split_dim' with dtype int32\n",
      "\t [[{{node gradients/split_grad/concat/split/split_dim}}]]\n",
      "2023-11-21 10:22:11.884716: I tensorflow/core/common_runtime/executor.cc:1197] [/device:CPU:0] (DEBUG INFO) Executor start aborting (this does not indicate an error and you can ignore this message): INVALID_ARGUMENT: You must feed a value for placeholder tensor 'gradients/split_1_grad/concat/split_1/split_dim' with dtype int32\n",
      "\t [[{{node gradients/split_1_grad/concat/split_1/split_dim}}]]\n"
     ]
    },
    {
     "name": "stdout",
     "output_type": "stream",
     "text": [
      "106/106 [==============================] - 4s 29ms/step\n",
      "========================================================================================================\n",
      "Test loss: 0.6996471881866455\n",
      "Test accuracy: 0.7157270312309265\n",
      "========================================================================================================\n",
      "Classification Report for LSTM Model:\n",
      "               precision    recall  f1-score   support\n",
      "\n",
      "           0       0.69      0.62      0.65      1087\n",
      "           1       0.66      0.71      0.68      1150\n",
      "           2       0.81      0.81      0.81      1133\n",
      "\n",
      "    accuracy                           0.72      3370\n",
      "   macro avg       0.72      0.71      0.71      3370\n",
      "weighted avg       0.72      0.72      0.72      3370\n",
      "\n",
      "========================================================================================================\n"
     ]
    },
    {
     "data": {
      "image/png": "[encoded data removed]",
      "text/plain": [
       "<Figure size 432x288 with 1 Axes>"
      ]
     },
     "metadata": {},
     "output_type": "display_data"
    },
    {
     "name": "stdout",
     "output_type": "stream",
     "text": [
      "========================================================================================================\n",
      "The LSTM+Embedding classification confusion matrix\n"
     ]
    },
    {
     "data": {
      "image/png": "[encoded data removed]",
      "text/plain": [
       "<Figure size 432x288 with 2 Axes>"
      ]
     },
     "metadata": {},
     "output_type": "display_data"
    }
   ],
   "source": [
    "\n",
    "from keras.models import Sequential\n",
    "from keras.layers import Embedding, LSTM, Dense, Dropout\n",
    "from keras.callbacks import EarlyStopping\n",
    "\n",
    "\n",
    "\n",
    "EMBEDDING_DIM = 100  # Adjust this dimension based on your Word2Vec or GloVe model\n",
    "\n",
    "# Load and preprocess your data (replace 'df.tweet' and 'df.label' with your data)\n",
    "X_train, X_test, y_train, y_test = train_test_split(df.cleaned_tweet, df.label, test_size=0.2, random_state=101)\n",
    "tokenizer = Tokenizer(num_words=NB_WORDS, split=\" \")\n",
    "tokenizer.fit_on_texts(X_train)\n",
    "X_train_seq = tokenizer.texts_to_sequences(X_train)\n",
    "X_test_seq = tokenizer.texts_to_sequences(X_test)\n",
    "X_train_seq = pad_sequences(X_train_seq, maxlen=MAX_LEN)\n",
    "X_test_seq = pad_sequences(X_test_seq, maxlen=MAX_LEN)\n",
    "label_encoder = LabelEncoder()\n",
    "y_train = label_encoder.fit_transform(y_train)\n",
    "y_test = label_encoder.transform(y_test)\n",
    "y_train = to_categorical(y_train)\n",
    "y_test = to_categorical(y_test)\n",
    "\n",
    "\n",
    "# Define the LSTM model with reduced complexity and regularization\n",
    "lstm_model = Sequential()\n",
    "lstm_model.add(Embedding(NB_WORDS, EMBEDDING_DIM, input_length=MAX_LEN))\n",
    "lstm_model.add(LSTM(64, return_sequences=True))\n",
    "lstm_model.add(Dropout(DROPOUT_RATE))  # Increased dropout rate\n",
    "lstm_model.add(LSTM(64))\n",
    "lstm_model.add(Dropout(DROPOUT_RATE))  # Increased dropout rate\n",
    "lstm_model.add(Dense(64, activation='relu'))\n",
    "lstm_model.add(Dropout(DROPOUT_RATE))  # Increased dropout rate\n",
    "lstm_model.add(Dense(3, activation='softmax'))\n",
    "\n",
    "# Compile the model\n",
    "lstm_model.compile(optimizer=Adam(learning_rate=LEARNING_RATE), \n",
    "                  loss='categorical_crossentropy', \n",
    "                  metrics=['accuracy'])\n",
    "\n",
    "\n",
    "# Early stopping callback\n",
    "early_stopping = EarlyStopping(monitor='val_loss', patience=3, restore_best_weights=True)\n",
    "\n",
    "# Train the model\n",
    "history = lstm_model.fit(X_train_seq, y_train, epochs=NB_START_EPOCHS, batch_size=BATCH_SIZE,\n",
    "                        validation_split=0.1, callbacks=[early_stopping], verbose=1)\n",
    "\n",
    "\n",
    "\n",
    "# Evaluate the model on test data\n",
    "loss, accuracy = lstm_model.evaluate(X_test_seq, y_test, verbose=0)\n",
    "\n",
    "print('========================================================================================================')\n",
    "# Get predictions on the test data\n",
    "y_pred = lstm_model.predict(X_test_seq)\n",
    "y_pred_classes = np.argmax(y_pred, axis=1)  # Convert predicted probabilities to class labels\n",
    "\n",
    "print('========================================================================================================')\n",
    "# Print test loss and accuracy\n",
    "print('Test loss:', loss)\n",
    "print('Test accuracy:', accuracy)\n",
    "\n",
    "print('========================================================================================================')\n",
    "# Calculate and print the classification report\n",
    "from sklearn.metrics import classification_report\n",
    "report_LSTM = classification_report(np.argmax(y_test, axis=1), y_pred_classes)\n",
    "print(\"Classification Report for LSTM Model:\\n\", report_LSTM)\n",
    "\n",
    "\n",
    "print('========================================================================================================')\n",
    "# Plot training history (optional)\n",
    "plt.plot(history.history['accuracy'], label='Train Accuracy')\n",
    "plt.plot(history.history['val_accuracy'], label='Validation Accuracy')\n",
    "plt.title('Training history')\n",
    "plt.xlabel('Epochs')\n",
    "plt.ylabel('Accuracy')\n",
    "plt.legend()\n",
    "plt.show()\n",
    "plt.ylim([0, 1])\n",
    "\n",
    "print('========================================================================================================')\n",
    "# Calculate the confusion matrix\n",
    "print('The LSTM+Embedding classification confusion matrix')\n",
    "confusion_matrix2 = confusion_matrix(np.argmax(y_test, axis=1), y_pred_classes)\n",
    "# Plot the confusion matrix as a heatmap\n",
    "\n",
    "sns.heatmap(confusion_matrix2, annot=True, fmt='d', cmap='Blues')\n",
    "plt.xlabel('Predicted class ')\n",
    "plt.ylabel('True class')\n",
    "plt.title('Confusion Matrix')\n",
    "plt.show()\n",
    "\n",
    "\n",
    "\n"
   ]
  },
  {
   "cell_type": "markdown",
   "id": "fe28da21",
   "metadata": {},
   "source": [
    "## GRU MODEL"
   ]
  },
  {
   "cell_type": "code",
   "execution_count": 82,
   "id": "3afe0eaf",
   "metadata": {},
   "outputs": [
    {
     "name": "stderr",
     "output_type": "stream",
     "text": [
      "2023-11-21 10:29:09.970248: I tensorflow/core/common_runtime/executor.cc:1197] [/device:CPU:0] (DEBUG INFO) Executor start aborting (this does not indicate an error and you can ignore this message): INVALID_ARGUMENT: You must feed a value for placeholder tensor 'gradients/split_2_grad/concat/split_2/split_dim' with dtype int32\n",
      "\t [[{{node gradients/split_2_grad/concat/split_2/split_dim}}]]\n",
      "2023-11-21 10:29:09.972220: I tensorflow/core/common_runtime/executor.cc:1197] [/device:CPU:0] (DEBUG INFO) Executor start aborting (this does not indicate an error and you can ignore this message): INVALID_ARGUMENT: You must feed a value for placeholder tensor 'gradients/split_grad/concat/split/split_dim' with dtype int32\n",
      "\t [[{{node gradients/split_grad/concat/split/split_dim}}]]\n",
      "2023-11-21 10:29:09.974649: I tensorflow/core/common_runtime/executor.cc:1197] [/device:CPU:0] (DEBUG INFO) Executor start aborting (this does not indicate an error and you can ignore this message): INVALID_ARGUMENT: You must feed a value for placeholder tensor 'gradients/split_1_grad/concat/split_1/split_dim' with dtype int32\n",
      "\t [[{{node gradients/split_1_grad/concat/split_1/split_dim}}]]\n"
     ]
    },
    {
     "name": "stdout",
     "output_type": "stream",
     "text": [
      "Epoch 1/20\n"
     ]
    },
    {
     "name": "stderr",
     "output_type": "stream",
     "text": [
      "2023-11-21 10:29:10.246974: I tensorflow/core/common_runtime/executor.cc:1197] [/device:CPU:0] (DEBUG INFO) Executor start aborting (this does not indicate an error and you can ignore this message): INVALID_ARGUMENT: You must feed a value for placeholder tensor 'gradients/split_2_grad/concat/split_2/split_dim' with dtype int32\n",
      "\t [[{{node gradients/split_2_grad/concat/split_2/split_dim}}]]\n",
      "2023-11-21 10:29:10.249066: I tensorflow/core/common_runtime/executor.cc:1197] [/device:CPU:0] (DEBUG INFO) Executor start aborting (this does not indicate an error and you can ignore this message): INVALID_ARGUMENT: You must feed a value for placeholder tensor 'gradients/split_grad/concat/split/split_dim' with dtype int32\n",
      "\t [[{{node gradients/split_grad/concat/split/split_dim}}]]\n",
      "2023-11-21 10:29:10.250748: I tensorflow/core/common_runtime/executor.cc:1197] [/device:CPU:0] (DEBUG INFO) Executor start aborting (this does not indicate an error and you can ignore this message): INVALID_ARGUMENT: You must feed a value for placeholder tensor 'gradients/split_1_grad/concat/split_1/split_dim' with dtype int32\n",
      "\t [[{{node gradients/split_1_grad/concat/split_1/split_dim}}]]\n",
      "2023-11-21 10:29:10.671008: I tensorflow/core/common_runtime/executor.cc:1197] [/device:CPU:0] (DEBUG INFO) Executor start aborting (this does not indicate an error and you can ignore this message): INVALID_ARGUMENT: You must feed a value for placeholder tensor 'gradients/split_2_grad/concat/split_2/split_dim' with dtype int32\n",
      "\t [[{{node gradients/split_2_grad/concat/split_2/split_dim}}]]\n",
      "2023-11-21 10:29:10.673492: I tensorflow/core/common_runtime/executor.cc:1197] [/device:CPU:0] (DEBUG INFO) Executor start aborting (this does not indicate an error and you can ignore this message): INVALID_ARGUMENT: You must feed a value for placeholder tensor 'gradients/split_grad/concat/split/split_dim' with dtype int32\n",
      "\t [[{{node gradients/split_grad/concat/split/split_dim}}]]\n",
      "2023-11-21 10:29:10.677103: I tensorflow/core/common_runtime/executor.cc:1197] [/device:CPU:0] (DEBUG INFO) Executor start aborting (this does not indicate an error and you can ignore this message): INVALID_ARGUMENT: You must feed a value for placeholder tensor 'gradients/split_1_grad/concat/split_1/split_dim' with dtype int32\n",
      "\t [[{{node gradients/split_1_grad/concat/split_1/split_dim}}]]\n",
      "2023-11-21 10:29:10.953875: I tensorflow/core/common_runtime/executor.cc:1197] [/device:CPU:0] (DEBUG INFO) Executor start aborting (this does not indicate an error and you can ignore this message): INVALID_ARGUMENT: You must feed a value for placeholder tensor 'gradients/split_2_grad/concat/split_2/split_dim' with dtype int32\n",
      "\t [[{{node gradients/split_2_grad/concat/split_2/split_dim}}]]\n",
      "2023-11-21 10:29:10.955993: I tensorflow/core/common_runtime/executor.cc:1197] [/device:CPU:0] (DEBUG INFO) Executor start aborting (this does not indicate an error and you can ignore this message): INVALID_ARGUMENT: You must feed a value for placeholder tensor 'gradients/split_grad/concat/split/split_dim' with dtype int32\n",
      "\t [[{{node gradients/split_grad/concat/split/split_dim}}]]\n",
      "2023-11-21 10:29:10.957936: I tensorflow/core/common_runtime/executor.cc:1197] [/device:CPU:0] (DEBUG INFO) Executor start aborting (this does not indicate an error and you can ignore this message): INVALID_ARGUMENT: You must feed a value for placeholder tensor 'gradients/split_1_grad/concat/split_1/split_dim' with dtype int32\n",
      "\t [[{{node gradients/split_1_grad/concat/split_1/split_dim}}]]\n",
      "2023-11-21 10:29:12.518473: I tensorflow/core/common_runtime/executor.cc:1197] [/device:CPU:0] (DEBUG INFO) Executor start aborting (this does not indicate an error and you can ignore this message): INVALID_ARGUMENT: You must feed a value for placeholder tensor 'gradients/split_2_grad/concat/split_2/split_dim' with dtype int32\n",
      "\t [[{{node gradients/split_2_grad/concat/split_2/split_dim}}]]\n",
      "2023-11-21 10:29:12.522109: I tensorflow/core/common_runtime/executor.cc:1197] [/device:CPU:0] (DEBUG INFO) Executor start aborting (this does not indicate an error and you can ignore this message): INVALID_ARGUMENT: You must feed a value for placeholder tensor 'gradients/split_grad/concat/split/split_dim' with dtype int32\n",
      "\t [[{{node gradients/split_grad/concat/split/split_dim}}]]\n",
      "2023-11-21 10:29:12.524265: I tensorflow/core/common_runtime/executor.cc:1197] [/device:CPU:0] (DEBUG INFO) Executor start aborting (this does not indicate an error and you can ignore this message): INVALID_ARGUMENT: You must feed a value for placeholder tensor 'gradients/split_1_grad/concat/split_1/split_dim' with dtype int32\n",
      "\t [[{{node gradients/split_1_grad/concat/split_1/split_dim}}]]\n",
      "2023-11-21 10:29:12.807915: I tensorflow/core/common_runtime/executor.cc:1197] [/device:CPU:0] (DEBUG INFO) Executor start aborting (this does not indicate an error and you can ignore this message): INVALID_ARGUMENT: You must feed a value for placeholder tensor 'gradients/split_2_grad/concat/split_2/split_dim' with dtype int32\n",
      "\t [[{{node gradients/split_2_grad/concat/split_2/split_dim}}]]\n",
      "2023-11-21 10:29:12.810699: I tensorflow/core/common_runtime/executor.cc:1197] [/device:CPU:0] (DEBUG INFO) Executor start aborting (this does not indicate an error and you can ignore this message): INVALID_ARGUMENT: You must feed a value for placeholder tensor 'gradients/split_grad/concat/split/split_dim' with dtype int32\n",
      "\t [[{{node gradients/split_grad/concat/split/split_dim}}]]\n",
      "2023-11-21 10:29:12.814282: I tensorflow/core/common_runtime/executor.cc:1197] [/device:CPU:0] (DEBUG INFO) Executor start aborting (this does not indicate an error and you can ignore this message): INVALID_ARGUMENT: You must feed a value for placeholder tensor 'gradients/split_1_grad/concat/split_1/split_dim' with dtype int32\n",
      "\t [[{{node gradients/split_1_grad/concat/split_1/split_dim}}]]\n"
     ]
    },
    {
     "name": "stdout",
     "output_type": "stream",
     "text": [
      "380/380 [==============================] - ETA: 0s - loss: 1.0823 - accuracy: 0.4129"
     ]
    },
    {
     "name": "stderr",
     "output_type": "stream",
     "text": [
      "2023-11-21 10:29:46.835791: I tensorflow/core/common_runtime/executor.cc:1197] [/device:CPU:0] (DEBUG INFO) Executor start aborting (this does not indicate an error and you can ignore this message): INVALID_ARGUMENT: You must feed a value for placeholder tensor 'gradients/split_2_grad/concat/split_2/split_dim' with dtype int32\n",
      "\t [[{{node gradients/split_2_grad/concat/split_2/split_dim}}]]\n",
      "2023-11-21 10:29:46.837861: I tensorflow/core/common_runtime/executor.cc:1197] [/device:CPU:0] (DEBUG INFO) Executor start aborting (this does not indicate an error and you can ignore this message): INVALID_ARGUMENT: You must feed a value for placeholder tensor 'gradients/split_grad/concat/split/split_dim' with dtype int32\n",
      "\t [[{{node gradients/split_grad/concat/split/split_dim}}]]\n",
      "2023-11-21 10:29:46.839506: I tensorflow/core/common_runtime/executor.cc:1197] [/device:CPU:0] (DEBUG INFO) Executor start aborting (this does not indicate an error and you can ignore this message): INVALID_ARGUMENT: You must feed a value for placeholder tensor 'gradients/split_1_grad/concat/split_1/split_dim' with dtype int32\n",
      "\t [[{{node gradients/split_1_grad/concat/split_1/split_dim}}]]\n",
      "2023-11-21 10:29:47.062226: I tensorflow/core/common_runtime/executor.cc:1197] [/device:CPU:0] (DEBUG INFO) Executor start aborting (this does not indicate an error and you can ignore this message): INVALID_ARGUMENT: You must feed a value for placeholder tensor 'gradients/split_2_grad/concat/split_2/split_dim' with dtype int32\n",
      "\t [[{{node gradients/split_2_grad/concat/split_2/split_dim}}]]\n",
      "2023-11-21 10:29:47.064764: I tensorflow/core/common_runtime/executor.cc:1197] [/device:CPU:0] (DEBUG INFO) Executor start aborting (this does not indicate an error and you can ignore this message): INVALID_ARGUMENT: You must feed a value for placeholder tensor 'gradients/split_grad/concat/split/split_dim' with dtype int32\n",
      "\t [[{{node gradients/split_grad/concat/split/split_dim}}]]\n",
      "2023-11-21 10:29:47.067358: I tensorflow/core/common_runtime/executor.cc:1197] [/device:CPU:0] (DEBUG INFO) Executor start aborting (this does not indicate an error and you can ignore this message): INVALID_ARGUMENT: You must feed a value for placeholder tensor 'gradients/split_1_grad/concat/split_1/split_dim' with dtype int32\n",
      "\t [[{{node gradients/split_1_grad/concat/split_1/split_dim}}]]\n"
     ]
    },
    {
     "name": "stdout",
     "output_type": "stream",
     "text": [
      "380/380 [==============================] - 38s 87ms/step - loss: 1.0823 - accuracy: 0.4129 - val_loss: 1.0196 - val_accuracy: 0.5223\n",
      "Epoch 2/20\n",
      "380/380 [==============================] - 35s 93ms/step - loss: 0.8936 - accuracy: 0.5711 - val_loss: 0.8381 - val_accuracy: 0.5972\n",
      "Epoch 3/20\n",
      "380/380 [==============================] - 43s 112ms/step - loss: 0.7681 - accuracy: 0.6343 - val_loss: 0.7882 - val_accuracy: 0.6528\n",
      "Epoch 4/20\n",
      "380/380 [==============================] - 32s 85ms/step - loss: 0.6893 - accuracy: 0.6760 - val_loss: 0.7744 - val_accuracy: 0.6691\n",
      "Epoch 5/20\n",
      "380/380 [==============================] - 32s 85ms/step - loss: 0.6279 - accuracy: 0.7106 - val_loss: 0.7780 - val_accuracy: 0.6684\n",
      "Epoch 6/20\n",
      "380/380 [==============================] - 36s 94ms/step - loss: 0.5549 - accuracy: 0.7561 - val_loss: 0.7787 - val_accuracy: 0.6951\n",
      "Epoch 7/20\n",
      "380/380 [==============================] - 34s 90ms/step - loss: 0.4700 - accuracy: 0.8109 - val_loss: 0.7971 - val_accuracy: 0.7047\n"
     ]
    },
    {
     "name": "stderr",
     "output_type": "stream",
     "text": [
      "2023-11-21 10:33:22.413163: I tensorflow/core/common_runtime/executor.cc:1197] [/device:CPU:0] (DEBUG INFO) Executor start aborting (this does not indicate an error and you can ignore this message): INVALID_ARGUMENT: You must feed a value for placeholder tensor 'gradients/split_2_grad/concat/split_2/split_dim' with dtype int32\n",
      "\t [[{{node gradients/split_2_grad/concat/split_2/split_dim}}]]\n",
      "2023-11-21 10:33:22.415246: I tensorflow/core/common_runtime/executor.cc:1197] [/device:CPU:0] (DEBUG INFO) Executor start aborting (this does not indicate an error and you can ignore this message): INVALID_ARGUMENT: You must feed a value for placeholder tensor 'gradients/split_grad/concat/split/split_dim' with dtype int32\n",
      "\t [[{{node gradients/split_grad/concat/split/split_dim}}]]\n",
      "2023-11-21 10:33:22.416805: I tensorflow/core/common_runtime/executor.cc:1197] [/device:CPU:0] (DEBUG INFO) Executor start aborting (this does not indicate an error and you can ignore this message): INVALID_ARGUMENT: You must feed a value for placeholder tensor 'gradients/split_1_grad/concat/split_1/split_dim' with dtype int32\n",
      "\t [[{{node gradients/split_1_grad/concat/split_1/split_dim}}]]\n",
      "2023-11-21 10:33:22.635089: I tensorflow/core/common_runtime/executor.cc:1197] [/device:CPU:0] (DEBUG INFO) Executor start aborting (this does not indicate an error and you can ignore this message): INVALID_ARGUMENT: You must feed a value for placeholder tensor 'gradients/split_2_grad/concat/split_2/split_dim' with dtype int32\n",
      "\t [[{{node gradients/split_2_grad/concat/split_2/split_dim}}]]\n",
      "2023-11-21 10:33:22.637048: I tensorflow/core/common_runtime/executor.cc:1197] [/device:CPU:0] (DEBUG INFO) Executor start aborting (this does not indicate an error and you can ignore this message): INVALID_ARGUMENT: You must feed a value for placeholder tensor 'gradients/split_grad/concat/split/split_dim' with dtype int32\n",
      "\t [[{{node gradients/split_grad/concat/split/split_dim}}]]\n",
      "2023-11-21 10:33:22.638748: I tensorflow/core/common_runtime/executor.cc:1197] [/device:CPU:0] (DEBUG INFO) Executor start aborting (this does not indicate an error and you can ignore this message): INVALID_ARGUMENT: You must feed a value for placeholder tensor 'gradients/split_1_grad/concat/split_1/split_dim' with dtype int32\n",
      "\t [[{{node gradients/split_1_grad/concat/split_1/split_dim}}]]\n"
     ]
    },
    {
     "name": "stdout",
     "output_type": "stream",
     "text": [
      "106/106 [==============================] - 3s 18ms/step\n",
      "========================================================================================================\n",
      "Classification Report for GRU+embedding Model:\n",
      "               precision    recall  f1-score   support\n",
      "\n",
      "           0       0.62      0.43      0.50      1087\n",
      "           1       0.58      0.71      0.64      1150\n",
      "           2       0.77      0.83      0.80      1133\n",
      "\n",
      "    accuracy                           0.66      3370\n",
      "   macro avg       0.66      0.66      0.65      3370\n",
      "weighted avg       0.66      0.66      0.65      3370\n",
      "\n",
      "========================================================================================================\n",
      "Test loss: 0.7473541498184204\n",
      "Test accuracy: 0.6599406599998474\n",
      "========================================================================================================\n"
     ]
    },
    {
     "data": {
      "image/png": "[encoded data removed]",
      "text/plain": [
       "<Figure size 432x288 with 1 Axes>"
      ]
     },
     "metadata": {},
     "output_type": "display_data"
    },
    {
     "name": "stdout",
     "output_type": "stream",
     "text": [
      "========================================================================================================\n"
     ]
    },
    {
     "data": {
      "image/png": "[encoded data removed]",
      "text/plain": [
       "<Figure size 576x432 with 2 Axes>"
      ]
     },
     "metadata": {},
     "output_type": "display_data"
    }
   ],
   "source": [
    "\n",
    "from keras.layers import Embedding, GRU, Dense, Dropout\n",
    "from keras.callbacks import EarlyStopping\n",
    "from nltk.corpus import stopwords\n",
    "from sklearn.metrics import classification_report\n",
    "\n",
    "\n",
    "EMBEDDING_DIM = 100  # Adjust this dimension based on your Word2Vec or GloVe model\n",
    "\n",
    "# Load and preprocess your data (replace 'df.tweet' and 'df.label' with your data)\n",
    "X_train, X_test, y_train, y_test = train_test_split(df.cleaned_tweet, df.label, test_size=0.2, random_state=101)\n",
    "tokenizer = Tokenizer(num_words=NB_WORDS, split=\" \")\n",
    "tokenizer.fit_on_texts(X_train)\n",
    "X_train_seq = tokenizer.texts_to_sequences(X_train)\n",
    "X_test_seq = tokenizer.texts_to_sequences(X_test)\n",
    "X_train_seq = pad_sequences(X_train_seq, maxlen=MAX_LEN)\n",
    "X_test_seq = pad_sequences(X_test_seq, maxlen=MAX_LEN)\n",
    "label_encoder = LabelEncoder()\n",
    "y_train = label_encoder.fit_transform(y_train)\n",
    "y_test = label_encoder.transform(y_test)\n",
    "y_train = to_categorical(y_train)\n",
    "y_test = to_categorical(y_test)\n",
    "\n",
    "# Define the GRU model\n",
    "gru_model = Sequential()\n",
    "gru_model.add(Embedding(NB_WORDS, EMBEDDING_DIM, input_length=MAX_LEN))\n",
    "gru_model.add(GRU(64, return_sequences=True))\n",
    "gru_model.add(Dropout(DROPOUT_RATE))  # Increased dropout rate\n",
    "gru_model.add(GRU(64))\n",
    "gru_model.add(Dropout(DROPOUT_RATE))  # Increased dropout rate\n",
    "gru_model.add(Dense(64, activation='relu'))\n",
    "gru_model.add(Dropout(DROPOUT_RATE))  # Decreased dropout rate\n",
    "gru_model.add(Dense(3, activation='softmax'))\n",
    "\n",
    "# Compile the model\n",
    "gru_model.compile(optimizer=Adam(learning_rate=LEARNING_RATE), \n",
    "                  loss='categorical_crossentropy', \n",
    "                  metrics=['accuracy'])\n",
    "\n",
    "\n",
    "\n",
    "# Early stopping callback\n",
    "early_stopping = EarlyStopping(monitor='val_loss', patience=3, restore_best_weights=True)\n",
    "\n",
    "# Train the model\n",
    "history = gru_model.fit(X_train_seq, y_train, epochs=NB_START_EPOCHS, batch_size=BATCH_SIZE,\n",
    "                       validation_split=0.1, callbacks=[early_stopping], verbose=1)\n",
    "\n",
    "# Evaluate the model on test data\n",
    "loss, accuracy = gru_model.evaluate(X_test_seq, y_test, verbose=0)\n",
    "\n",
    "\n",
    "# Get predictions on the test data\n",
    "y_pred = gru_model.predict(X_test_seq)\n",
    "y_pred_classes = np.argmax(y_pred, axis=1)  # Convert predicted probabilities to class labels\n",
    "\n",
    "\n",
    "print('========================================================================================================')\n",
    "# Calculate and print the classification report\n",
    "\n",
    "report_GRU = classification_report(np.argmax(y_test, axis=1), y_pred_classes)\n",
    "print(\"Classification Report for GRU+embedding Model:\\n\", report_GRU)\n",
    "\n",
    "print('========================================================================================================')\n",
    "# Print test loss and accuracy\n",
    "print('Test loss:', loss)\n",
    "print('Test accuracy:', accuracy)\n",
    "\n",
    "print('========================================================================================================')\n",
    "# Plot training history (optional)\n",
    "plt.plot(history.history['accuracy'], label='Train Accuracy')\n",
    "plt.plot(history.history['val_accuracy'], label='Validation Accuracy')\n",
    "plt.xlabel('Epochs')\n",
    "plt.ylabel('Accuracy')\n",
    "plt.legend()\n",
    "plt.show()\n",
    "\n",
    "# Calculate the confusion matrix\n",
    "confusion_matrix3 = confusion_matrix(np.argmax(y_test, axis=1), y_pred_classes)\n",
    "\n",
    "print('========================================================================================================')\n",
    "# Plot the confusion matrix as a heatmap\n",
    "plt.figure(figsize=(8, 6))\n",
    "sns.heatmap(confusion_matrix3, annot=True, fmt='d', cmap='Blues')\n",
    "plt.xlabel('Predicted class ')\n",
    "plt.ylabel('True class')\n",
    "plt.title('Confusion Matrix')\n",
    "plt.show()"
   ]
  },
  {
   "cell_type": "code",
   "execution_count": null,
   "id": "e3c52452",
   "metadata": {},
   "outputs": [],
   "source": [
    "# Save the model\n",
    "#emb_model2.save('emb_model2.h5')\n",
    "\n",
    "# Later, when you want to use the model for inference\n",
    "from keras.models import load_model\n",
    "\n",
    "# Load the saved model\n",
    "loaded_model = load_model('emb_model2.h5')\n",
    "\n",
    "# Example new data (you need to preprocess and tokenize your new data accordingly)\n",
    "new_data = [\"@user Sosai makowa man u bata tsoro karawa da kowa, man united we stand 💪💪💪💪\"]\n",
    "# Tokenize and preprocess the new data (adjust this part as needed)\n",
    "new_data_seq = tk.texts_to_sequences(new_data)\n",
    "new_data_seq_trunc = pad_sequences(new_data_seq, maxlen=MAX_LEN, padding='post')\n",
    "\n",
    "# Perform inference on the new data\n",
    "predictions = loaded_model.predict(new_data_seq_trunc)\n",
    "\n",
    "# Define the class mapping\n",
    "class_mapping = {\n",
    "    0: \"Negative\",\n",
    "    1: \"Neutral\",\n",
    "    2: \"Positive\"\n",
    "}\n",
    "\n",
    "# Map numerical predictions to labels\n",
    "predicted_labels = [class_mapping[prediction.argmax()] for prediction in predictions]\n",
    "\n",
    "# `predicted_labels` will contain the human-readable sentiment classifications for each input text\n",
    "predicted_labels = [class_mapping[prediction.argmax()] for prediction in predictions]\n",
    "\n",
    "# Print the predicted label for the example data\n",
    "print(\"Predicted Label:\", predicted_labels[0])"
   ]
  }
 ],
 "metadata": {
  "kernelspec": {
   "display_name": "Python 3 (ipykernel)",
   "language": "python",
   "name": "python3"
  },
  "language_info": {
   "codemirror_mode": {
    "name": "ipython",
    "version": 3
   },
   "file_extension": ".py",
   "mimetype": "text/x-python",
   "name": "python",
   "nbconvert_exporter": "python",
   "pygments_lexer": "ipython3",
   "version": "3.9.12"
  }
 },
 "nbformat": 4,
 "nbformat_minor": 5
}
