{
 "cells": [
  {
   "cell_type": "code",
   "execution_count": 50,
   "id": "001b290b",
   "metadata": {},
   "outputs": [],
   "source": [
    "import numpy as np \n",
    "import pandas as pd \n",
    "pd.set_option('display.max_colwidth', None)\n",
    "from time import time\n",
    "import re\n",
    "import string\n",
    "import os\n",
    "import emoji\n",
    "from pprint import pprint\n",
    "import collections\n",
    "\n",
    "import matplotlib.pyplot as plt\n",
    "import seaborn as sns\n",
    "\n",
    "sns.set(style='whitegrid', palette='muted', font_scale=1.2)\n",
    "HAPPY_COLORS_PALETTE = [\"#01BEFE\", \"#FFDD00\", \"#FF7D00\", \"#FF006D\", \"#ADFF02\", \"#8F00FF\"]\n",
    "sns.set_palette(sns.color_palette(HAPPY_COLORS_PALETTE))\n",
    "\n",
    "from sklearn.base import BaseEstimator, TransformerMixin\n",
    "from sklearn.feature_extraction.text import CountVectorizer\n",
    "from sklearn.feature_extraction.text import TfidfVectorizer\n",
    "from sklearn.model_selection import GridSearchCV\n",
    "from sklearn.model_selection import train_test_split\n",
    "from sklearn.pipeline import Pipeline, FeatureUnion\n",
    "from sklearn.metrics import classification_report\n",
    "\n",
    "\n",
    "from tensorflow.keras.preprocessing.text import Tokenizer\n",
    "\n",
    "\n",
    "import joblib\n",
    "\n",
    "#import gensim\n",
    "\n",
    "\n",
    "from nltk.tokenize import word_tokenize\n",
    "from hausastemmer import HausaStemmer\n",
    "from sklearn.metrics import classification_report, confusion_matrix\n",
    "import seaborn as sns\n"
   ]
  },
  {
   "cell_type": "code",
   "execution_count": null,
   "id": "a908cbca",
   "metadata": {},
   "outputs": [],
   "source": []
  },
  {
   "cell_type": "code",
   "execution_count": 51,
   "id": "b36998bc",
   "metadata": {},
   "outputs": [
    {
     "data": {
      "text/html": [
       "<div>\n",
       "<style scoped>\n",
       "    .dataframe tbody tr th:only-of-type {\n",
       "        vertical-align: middle;\n",
       "    }\n",
       "\n",
       "    .dataframe tbody tr th {\n",
       "        vertical-align: top;\n",
       "    }\n",
       "\n",
       "    .dataframe thead th {\n",
       "        text-align: right;\n",
       "    }\n",
       "</style>\n",
       "<table border=\"1\" class=\"dataframe\">\n",
       "  <thead>\n",
       "    <tr style=\"text-align: right;\">\n",
       "      <th></th>\n",
       "      <th>ID</th>\n",
       "      <th>tweet</th>\n",
       "      <th>label</th>\n",
       "    </tr>\n",
       "  </thead>\n",
       "  <tbody>\n",
       "    <tr>\n",
       "      <th>0</th>\n",
       "      <td>ha_train_00001</td>\n",
       "      <td>@user Da kudin da Arewa babu wani abin azo agani da yayi wa alummah allah ya isa yacucemu wlh yarikitamana kasa yarikitamana kasuwanci harkar ilimi harkar lfy hanyoyi babu lantarki dasuransu komai yalalace ga cinhanci da rashawa a fili ko ina a Nigeria jamiyaryar su tabataman mlm 😭🗣</td>\n",
       "      <td>negative</td>\n",
       "    </tr>\n",
       "    <tr>\n",
       "      <th>1</th>\n",
       "      <td>ha_train_00002</td>\n",
       "      <td>@user Kaga wani Adu ar Banda💔😭 wai a haka Shi ne shugaban sojoji.... Gaskiya Buhari kaci Amanan mu da kasa wannan mutum ah wajen nan</td>\n",
       "      <td>negative</td>\n",
       "    </tr>\n",
       "    <tr>\n",
       "      <th>2</th>\n",
       "      <td>ha_train_00003</td>\n",
       "      <td>@user Sai haquri fa yan madrid daman kunce champion din ya muku yawa😂</td>\n",
       "      <td>negative</td>\n",
       "    </tr>\n",
       "    <tr>\n",
       "      <th>3</th>\n",
       "      <td>ha_train_00004</td>\n",
       "      <td>@user Hmmm yanzu kai kasan girman allah daxakace mukuma ga Allah kune kukabarshi kuna karyata ayoyinsa kace allah baya karbar adduar talakan nigeria 🇳🇬 bayan kunzalunceshi kuma allah ya karbar adduar wanda aka zalunta cikin sauri amma kace wai Allah baya karbar addua talakawa</td>\n",
       "      <td>negative</td>\n",
       "    </tr>\n",
       "    <tr>\n",
       "      <th>4</th>\n",
       "      <td>ha_train_00005</td>\n",
       "      <td>@user @user Wai gwamno nin Nigeria suna afa kwayoyi ko 😂</td>\n",
       "      <td>negative</td>\n",
       "    </tr>\n",
       "  </tbody>\n",
       "</table>\n",
       "</div>"
      ],
      "text/plain": [
       "               ID  \\\n",
       "0  ha_train_00001   \n",
       "1  ha_train_00002   \n",
       "2  ha_train_00003   \n",
       "3  ha_train_00004   \n",
       "4  ha_train_00005   \n",
       "\n",
       "                                                                                                                                                                                                                                                                                         tweet  \\\n",
       "0  @user Da kudin da Arewa babu wani abin azo agani da yayi wa alummah allah ya isa yacucemu wlh yarikitamana kasa yarikitamana kasuwanci harkar ilimi harkar lfy hanyoyi babu lantarki dasuransu komai yalalace ga cinhanci da rashawa a fili ko ina a Nigeria jamiyaryar su tabataman mlm 😭🗣   \n",
       "1                                                                                                                                                         @user Kaga wani Adu ar Banda💔😭 wai a haka Shi ne shugaban sojoji.... Gaskiya Buhari kaci Amanan mu da kasa wannan mutum ah wajen nan   \n",
       "2                                                                                                                                                                                                                        @user Sai haquri fa yan madrid daman kunce champion din ya muku yawa😂   \n",
       "3         @user Hmmm yanzu kai kasan girman allah daxakace mukuma ga Allah kune kukabarshi kuna karyata ayoyinsa kace allah baya karbar adduar talakan nigeria 🇳🇬 bayan kunzalunceshi kuma allah ya karbar adduar wanda aka zalunta cikin sauri amma kace wai Allah baya karbar addua talakawa   \n",
       "4                                                                                                                                                                                                                                     @user @user Wai gwamno nin Nigeria suna afa kwayoyi ko 😂   \n",
       "\n",
       "      label  \n",
       "0  negative  \n",
       "1  negative  \n",
       "2  negative  \n",
       "3  negative  \n",
       "4  negative  "
      ]
     },
     "execution_count": 51,
     "metadata": {},
     "output_type": "execute_result"
    }
   ],
   "source": [
    "df1 = pd.read_table('ha_train.tsv')\n",
    "df2 = pd.read_table('ha_dev_gold_label.tsv')\n",
    "df = pd.concat([df1, df2],ignore_index=True)\n",
    "df.head()"
   ]
  },
  {
   "cell_type": "markdown",
   "id": "9956daff",
   "metadata": {},
   "source": [
    "## EDA"
   ]
  },
  {
   "cell_type": "code",
   "execution_count": 52,
   "id": "8bf9f82f",
   "metadata": {},
   "outputs": [
    {
     "name": "stdout",
     "output_type": "stream",
     "text": [
      "<class 'pandas.core.frame.DataFrame'>\n",
      "RangeIndex: 16849 entries, 0 to 16848\n",
      "Data columns (total 3 columns):\n",
      " #   Column  Non-Null Count  Dtype \n",
      "---  ------  --------------  ----- \n",
      " 0   ID      16849 non-null  object\n",
      " 1   tweet   16849 non-null  object\n",
      " 2   label   16849 non-null  object\n",
      "dtypes: object(3)\n",
      "memory usage: 395.0+ KB\n"
     ]
    }
   ],
   "source": [
    "df.info()"
   ]
  },
  {
   "cell_type": "markdown",
   "id": "ab8a2eff",
   "metadata": {},
   "source": [
    "The column"
   ]
  },
  {
   "cell_type": "code",
   "execution_count": 54,
   "id": "1afc93ef",
   "metadata": {},
   "outputs": [
    {
     "data": {
      "text/plain": [
       "label\n",
       "neutral     5808\n",
       "positive    5574\n",
       "negative    5467\n",
       "Name: count, dtype: int64"
      ]
     },
     "execution_count": 54,
     "metadata": {},
     "output_type": "execute_result"
    }
   ],
   "source": [
    "df['label'].value_counts()"
   ]
  },
  {
   "cell_type": "code",
   "execution_count": 55,
   "id": "1366a422",
   "metadata": {},
   "outputs": [
    {
     "data": {
      "text/plain": [
       "0"
      ]
     },
     "execution_count": 55,
     "metadata": {},
     "output_type": "execute_result"
    }
   ],
   "source": [
    "df['label'].isnull().sum()"
   ]
  },
  {
   "cell_type": "code",
   "execution_count": 56,
   "id": "c9939582",
   "metadata": {},
   "outputs": [
    {
     "data": {
      "image/png": "[encoded data removed]",
      "text/plain": [
       "<Figure size 658.56x432 with 1 Axes>"
      ]
     },
     "metadata": {},
     "output_type": "display_data"
    }
   ],
   "source": [
    "ax = sns.catplot(x=\"label\", data=df, kind=\"count\", height=6, aspect=1.5)\n",
    "plt.show();"
   ]
  },
  {
   "cell_type": "code",
   "execution_count": 57,
   "id": "a0517732",
   "metadata": {},
   "outputs": [],
   "source": [
    "class_mapping = {'negative':0,'neutral':1,'positive':2}\n",
    "df['label'] = df['label'].map(class_mapping)\n",
    "class_names =['negative','neutal','positive']"
   ]
  },
  {
   "cell_type": "markdown",
   "id": "c3e3996d",
   "metadata": {},
   "source": [
    "    The tweets column\n"
   ]
  },
  {
   "cell_type": "markdown",
   "id": "23e1ca4f",
   "metadata": {},
   "source": [
    "To analyze the text variable we create a class **TextCounts**. In this class we compute some basic statistics on the text variable. This class can be used later in a Pipeline, as well.\n",
    "\n",
    "* **count_words** : number of words in the tweet\n",
    "\n",
    "* **count_hashtags** : number of tag words, preceded by a #\n",
    "* **count_capital_words** : number of uppercase words, could be used to *\"shout\"* and express (negative) emotions\n",
    "* **count_excl_quest_marks** : number of question or exclamation marks\n",
    "* **count_urls** : number of links in the tweet, preceded by http(s)\n",
    "* **count_emojis** : number of emoji, which might be a good indication of the sentiment"
   ]
  },
  {
   "cell_type": "code",
   "execution_count": 58,
   "id": "7ea80ed7",
   "metadata": {},
   "outputs": [],
   "source": [
    "class TextCounts(BaseEstimator, TransformerMixin):\n",
    "    \n",
    "    def count_regex(self, pattern, tweet):\n",
    "        return len(re.findall(pattern, tweet))\n",
    "    \n",
    "    def fit(self, X, y=None, **fit_params):\n",
    "        # fit method is used when specific operations need to be done on the train data, but not on the test data\n",
    "        return self\n",
    "    \n",
    "    def transform(self, X, **transform_params):\n",
    "        count_words = X.apply(lambda x: self.count_regex(r'\\w+', x)) \n",
    "        count_hashtags = X.apply(lambda x: self.count_regex(r'#\\w+', x))\n",
    "        count_capital_words = X.apply(lambda x: self.count_regex(r'\\b[A-Z]{2,}\\b', x))\n",
    "        count_excl_quest_marks = X.apply(lambda x: self.count_regex(r'!|\\?', x))\n",
    "        count_urls = X.apply(lambda x: self.count_regex(r'http.?://[^\\s]+[\\s]?', x))\n",
    "        # We will replace the emoji symbols with a description, which makes using a regex for counting easier\n",
    "        # Moreover, it will result in having more words in the tweet\n",
    "        count_emojis = X.apply(lambda x: emoji.demojize(x)).apply(lambda x: self.count_regex(r':[a-z_&]+:', x))\n",
    "        \n",
    "        df = pd.DataFrame({'count_words': count_words\n",
    "                        \n",
    "                           , 'count_hashtags': count_hashtags\n",
    "                           , 'count_capital_words': count_capital_words\n",
    "                           , 'count_excl_quest_marks': count_excl_quest_marks\n",
    "                           , 'count_urls': count_urls\n",
    "                           , 'count_emojis': count_emojis\n",
    "                          })\n",
    "        \n",
    "        return df"
   ]
  },
  {
   "cell_type": "code",
   "execution_count": 10,
   "id": "d53a4982",
   "metadata": {},
   "outputs": [],
   "source": [
    "tc = TextCounts()\n",
    "df_eda = tc.fit_transform(df.tweet)\n",
    "\n",
    "df_eda['label'] = df['label']"
   ]
  },
  {
   "cell_type": "code",
   "execution_count": 11,
   "id": "dbba9c6c",
   "metadata": {},
   "outputs": [
    {
     "name": "stdout",
     "output_type": "stream",
     "text": [
      "Descriptive stats for count_words\n",
      "---------------------------------\n",
      "        count       mean        std  min  25%   50%   75%   max\n",
      "label                                                          \n",
      "0      5467.0  16.351747  11.482647  4.0  8.0  13.0  21.0  60.0\n",
      "1      5808.0  11.175103   7.600890  4.0  6.0   9.0  13.0  56.0\n",
      "2      5574.0  14.177610   9.904099  3.0  7.0  11.0  18.0  61.0\n"
     ]
    },
    {
     "data": {
      "image/png": "[encoded data removed]",
      "text/plain": [
       "<Figure size 1080x360 with 3 Axes>"
      ]
     },
     "metadata": {
      "needs_background": "light"
     },
     "output_type": "display_data"
    }
   ],
   "source": [
    "def show_hist(df, col):\n",
    "    print('Descriptive stats for {}'.format(col))\n",
    "    print('-'*(len(col)+22))\n",
    "    print(df.groupby('label')[col].describe())\n",
    "    bins = np.arange(df[col].min(), df[col].max() + 1)\n",
    "    g = sns.FacetGrid(df, col='label', height=5, hue='label')\n",
    "    g = g.map(sns.histplot, col, kde=False, bins=bins)\n",
    "    plt.show()\n",
    "   \n",
    "show_hist(df_eda, 'count_words')"
   ]
  },
  {
   "cell_type": "code",
   "execution_count": 12,
   "id": "7ce24612",
   "metadata": {},
   "outputs": [
    {
     "name": "stdout",
     "output_type": "stream",
     "text": [
      "Descriptive stats for count_hashtags\n",
      "------------------------------------\n",
      "        count      mean       std  min  25%  50%  75%   max\n",
      "label                                                      \n",
      "0      5467.0  0.026340  0.215655  0.0  0.0  0.0  0.0   6.0\n",
      "1      5808.0  0.032886  0.332686  0.0  0.0  0.0  0.0  14.0\n",
      "2      5574.0  0.034266  0.232962  0.0  0.0  0.0  0.0   4.0\n"
     ]
    },
    {
     "data": {
      "image/png": "[encoded data removed]",
      "text/plain": [
       "<Figure size 1080x360 with 3 Axes>"
      ]
     },
     "metadata": {
      "needs_background": "light"
     },
     "output_type": "display_data"
    }
   ],
   "source": [
    "show_hist(df_eda, 'count_hashtags')"
   ]
  },
  {
   "cell_type": "code",
   "execution_count": 13,
   "id": "1093f977",
   "metadata": {},
   "outputs": [
    {
     "name": "stdout",
     "output_type": "stream",
     "text": [
      "Descriptive stats for count_capital_words\n",
      "-----------------------------------------\n",
      "        count      mean       std  min  25%  50%  75%   max\n",
      "label                                                      \n",
      "0      5467.0  0.168831  1.122987  0.0  0.0  0.0  0.0  31.0\n",
      "1      5808.0  0.146006  1.027786  0.0  0.0  0.0  0.0  41.0\n",
      "2      5574.0  0.188913  1.316439  0.0  0.0  0.0  0.0  51.0\n"
     ]
    },
    {
     "data": {
      "image/png": "[encoded data removed]",
      "text/plain": [
       "<Figure size 1080x360 with 3 Axes>"
      ]
     },
     "metadata": {
      "needs_background": "light"
     },
     "output_type": "display_data"
    }
   ],
   "source": [
    "show_hist(df_eda, 'count_capital_words')"
   ]
  },
  {
   "cell_type": "code",
   "execution_count": 14,
   "id": "9ff90449",
   "metadata": {},
   "outputs": [
    {
     "name": "stdout",
     "output_type": "stream",
     "text": [
      "Descriptive stats for count_excl_quest_marks\n",
      "--------------------------------------------\n",
      "        count      mean       std  min  25%  50%  75%   max\n",
      "label                                                      \n",
      "0      5467.0  0.213097  0.707591  0.0  0.0  0.0  0.0  11.0\n",
      "1      5808.0  0.192665  0.610652  0.0  0.0  0.0  0.0  12.0\n",
      "2      5574.0  0.108001  0.549535  0.0  0.0  0.0  0.0  19.0\n"
     ]
    },
    {
     "data": {
      "image/png": "[encoded data removed]",
      "text/plain": [
       "<Figure size 1080x360 with 3 Axes>"
      ]
     },
     "metadata": {
      "needs_background": "light"
     },
     "output_type": "display_data"
    }
   ],
   "source": [
    "show_hist(df_eda, 'count_excl_quest_marks')"
   ]
  },
  {
   "cell_type": "code",
   "execution_count": 15,
   "id": "f4a4f952",
   "metadata": {},
   "outputs": [
    {
     "name": "stdout",
     "output_type": "stream",
     "text": [
      "Descriptive stats for count_urls\n",
      "--------------------------------\n",
      "        count      mean       std  min  25%  50%  75%  max\n",
      "label                                                     \n",
      "0      5467.0  0.027986  0.173594  0.0  0.0  0.0  0.0  2.0\n",
      "1      5808.0  0.040461  0.213014  0.0  0.0  0.0  0.0  3.0\n",
      "2      5574.0  0.027987  0.170303  0.0  0.0  0.0  0.0  2.0\n"
     ]
    },
    {
     "data": {
      "image/png": "[encoded data removed]",
      "text/plain": [
       "<Figure size 1080x360 with 3 Axes>"
      ]
     },
     "metadata": {
      "needs_background": "light"
     },
     "output_type": "display_data"
    }
   ],
   "source": [
    "show_hist(df_eda, 'count_urls')"
   ]
  },
  {
   "cell_type": "code",
   "execution_count": 16,
   "id": "d7c75a30",
   "metadata": {},
   "outputs": [
    {
     "name": "stdout",
     "output_type": "stream",
     "text": [
      "Descriptive stats for count_emojis\n",
      "----------------------------------\n",
      "        count      mean       std  min  25%  50%  75%    max\n",
      "label                                                       \n",
      "0      5467.0  2.198646  2.875457  0.0  1.0  2.0  3.0  126.0\n",
      "1      5808.0  1.966942  1.691746  0.0  1.0  1.0  3.0   32.0\n",
      "2      5574.0  1.994080  2.235177  0.0  1.0  1.0  3.0   88.0\n"
     ]
    },
    {
     "data": {
      "image/png": "[encoded data removed]",
      "text/plain": [
       "<Figure size 1080x360 with 3 Axes>"
      ]
     },
     "metadata": {
      "needs_background": "light"
     },
     "output_type": "display_data"
    }
   ],
   "source": [
    "show_hist(df_eda, 'count_emojis')"
   ]
  },
  {
   "cell_type": "markdown",
   "id": "cfb1c6b2",
   "metadata": {},
   "source": [
    "### Code-mixed handling\n",
    "This is handle in other notebook separatly"
   ]
  },
  {
   "cell_type": "code",
   "execution_count": 147,
   "id": "2382ee0b",
   "metadata": {},
   "outputs": [
    {
     "data": {
      "text/plain": [
       "[{'language': 'ha', 'isReliable': True, 'confidence': 10.68}]"
      ]
     },
     "execution_count": 147,
     "metadata": {},
     "output_type": "execute_result"
    }
   ],
   "source": [
    "detectlanguage.detect(\"user Da kudin da Arewa babu wani abin azo aga\")"
   ]
  },
  {
   "cell_type": "markdown",
   "id": "087bf30c",
   "metadata": {},
   "source": [
    "## Removing the Stemming for Ablation study"
   ]
  },
  {
   "cell_type": "code",
   "execution_count": 59,
   "id": "532481be",
   "metadata": {},
   "outputs": [],
   "source": [
    "class CleanText(BaseEstimator, TransformerMixin):\n",
    "   \n",
    "    def remove_mentions(self, input_text):\n",
    "        return re.sub(r'@\\w+', '', input_text)\n",
    "    \n",
    "    def remove_urls(self, input_text):\n",
    "        return re.sub(r'http.?://[^\\s]+[\\s]?', '', input_text)\n",
    "    \n",
    "    def emoji_oneword(self, input_text):\n",
    "        # By compressing the underscore, the emoji is kept as one word\n",
    "        return input_text.replace('_','')\n",
    "    \n",
    "    def remove_punctuation(self, input_text):\n",
    "        # Make translation table\n",
    "        punct = string.punctuation\n",
    "        trantab = str.maketrans(punct, len(punct)*' ')  # Every punctuation symbol will be replaced by a space\n",
    "        return input_text.translate(trantab)\n",
    "\n",
    "    def remove_digits(self, input_text):\n",
    "        return re.sub('\\d+', '', input_text)\n",
    "    \n",
    "    def remove_stopwords(self, input_text):\n",
    "            \n",
    "        # This stop are a gotting from the different online repositories as there is no standardation on the Huasa stopword.\n",
    "        stopwords_list = ['a', 'amma', 'ba', 'ban', 'ce', 'cikin', 'da', 'don', 'ga', 'in', 'ina', 'ita', 'ji', 'ka', 'ko', 'kuma', 'lokacin', 'ma', 'mai', 'na', 'ne', 'ni', 'sai', 'shi', 'su', 'suka', 'sun', 'ta', 'tafi', 'take', 'tana', 'wani', 'wannan', 'wata', 'ya', 'yake', 'yana', 'yi', 'za']\n",
    "        \n",
    "        # This stop are a gotting from the different online repositories as there is no standardation on the Huasa stopword.\n",
    "        words = input_text.split()\n",
    "        clean_words = [w for w in words if not w in  stopwords_list]\n",
    "        return \" \".join(clean_words) \n",
    "    \n",
    "    # filterout the words that are single\n",
    "    def single_word_fillter(self, input_text):\n",
    "        \n",
    "        words = input_text.split()\n",
    "        filtered_words = [word for word in words if len(word)> 1]\n",
    "        return \" \".join(filtered_words) \n",
    "    \n",
    "    #def stemming(self, input_text):\n",
    "    #    hausastemmer = HausaStemmer()\n",
    "    #   words = input_text.split() \n",
    "    #   stemmed_words = [ hausastemmer.stem(word) for word in words]\n",
    "    #   return \" \".join(stemmed_words)\n",
    "    \n",
    "    def to_lower(self, input_text):\n",
    "        return input_text.lower()\n",
    "\n",
    "    def fit(self, X, y=None, **fit_params):\n",
    "        return self\n",
    "    \n",
    "    def transform(self, X, **transform_params):\n",
    "        clean_X = X.apply(self.remove_mentions).apply(self.remove_urls).apply(self.emoji_oneword).apply(self.remove_punctuation).apply(self.remove_digits).apply(self.to_lower).apply(self.remove_stopwords).apply(self.single_word_fillter) #.apply(self.stemming)\n",
    "        return clean_X\n",
    "    \n"
   ]
  },
  {
   "cell_type": "code",
   "execution_count": null,
   "id": "2a3cddab",
   "metadata": {},
   "outputs": [],
   "source": []
  },
  {
   "cell_type": "code",
   "execution_count": 60,
   "id": "1a8d57f3",
   "metadata": {},
   "outputs": [
    {
     "data": {
      "text/plain": [
       "3015    dan bura uban yaji atah 😂😂😂\n",
       "Name: tweet, dtype: object"
      ]
     },
     "execution_count": 60,
     "metadata": {},
     "output_type": "execute_result"
    }
   ],
   "source": [
    "ct = CleanText()\n",
    "sr_clean = ct.fit_transform(df.tweet)\n",
    "sr_clean.sample(1)"
   ]
  },
  {
   "cell_type": "markdown",
   "id": "f16aad04",
   "metadata": {},
   "source": [
    "### checking an empty tweet"
   ]
  },
  {
   "cell_type": "code",
   "execution_count": 61,
   "id": "dacb3c85",
   "metadata": {},
   "outputs": [
    {
     "name": "stdout",
     "output_type": "stream",
     "text": [
      "0 records have no words left after text cleaning\n"
     ]
    }
   ],
   "source": [
    "empty_clean = sr_clean == ''\n",
    "print('{} records have no words left after text cleaning'.format(sr_clean[empty_clean].count()))\n",
    "sr_clean.loc[empty_clean] = '[no_text]'"
   ]
  },
  {
   "cell_type": "code",
   "execution_count": null,
   "id": "b1a5e788",
   "metadata": {},
   "outputs": [],
   "source": []
  },
  {
   "cell_type": "code",
   "execution_count": 62,
   "id": "cba86532",
   "metadata": {},
   "outputs": [],
   "source": [
    "#To show how the cleaned text variable will look like, here's a sample.\n",
    "ct = CleanText()\n",
    "cleaned_tweets = ct.fit_transform(df.tweet)\n",
    "df['cleaned_tweet'] = cleaned_tweets  # Add the cleaned tweets as a new column\n",
    "df.sample(1)\n",
    "df.to_csv('clean_hausa_tweet.csv', index= False)"
   ]
  },
  {
   "cell_type": "code",
   "execution_count": null,
   "id": "cfdcde6d",
   "metadata": {},
   "outputs": [],
   "source": []
  },
  {
   "cell_type": "markdown",
   "id": "9d88fcf7",
   "metadata": {},
   "source": [
    "Now that we have the cleaned text of the tweets, we can have a look at what are the most frequent words. Below we'll show the top 20 words. \n",
    "\n",
    "**CONCLUSION: **Not surprisingly the most frequent word is Allah."
   ]
  },
  {
   "cell_type": "code",
   "execution_count": 63,
   "id": "4caeda9a",
   "metadata": {},
   "outputs": [
    {
     "data": {
      "image/png": "[encoded data removed]",
      "text/plain": [
       "<Figure size 1440x576 with 1 Axes>"
      ]
     },
     "metadata": {},
     "output_type": "display_data"
    }
   ],
   "source": [
    "cv = CountVectorizer()\n",
    "bow = cv.fit_transform(sr_clean)\n",
    "word_freq = dict(zip(cv.get_feature_names_out(), np.asarray(bow.sum(axis=0)).ravel()))\n",
    "word_counter = collections.Counter(word_freq)\n",
    "word_counter_df = pd.DataFrame(word_counter.most_common(20), columns = ['word', 'freq'])\n",
    "\n",
    "fig, ax = plt.subplots(figsize=(20, 8))\n",
    "bar_freq_word = sns.barplot(x=\"word\", y=\"freq\", data=word_counter_df)\n",
    "plt.show();"
   ]
  },
  {
   "cell_type": "code",
   "execution_count": 26,
   "id": "e6063f6b",
   "metadata": {},
   "outputs": [
    {
     "name": "stdout",
     "output_type": "stream",
     "text": [
      "Collecting keras-utils\n",
      "  Downloading keras-utils-1.0.13.tar.gz (2.4 kB)\n",
      "Requirement already satisfied: Keras>=2.1.5 in /Users/aliyuyusuf/opt/anaconda3/lib/python3.9/site-packages (from keras-utils) (3.6.0)\n",
      "Requirement already satisfied: namex in /Users/aliyuyusuf/opt/anaconda3/lib/python3.9/site-packages (from Keras>=2.1.5->keras-utils) (0.0.8)\n",
      "Requirement already satisfied: optree in /Users/aliyuyusuf/opt/anaconda3/lib/python3.9/site-packages (from Keras>=2.1.5->keras-utils) (0.13.0)\n",
      "Requirement already satisfied: packaging in /Users/aliyuyusuf/opt/anaconda3/lib/python3.9/site-packages (from Keras>=2.1.5->keras-utils) (23.2)\n",
      "Requirement already satisfied: h5py in /Users/aliyuyusuf/opt/anaconda3/lib/python3.9/site-packages (from Keras>=2.1.5->keras-utils) (3.12.1)\n",
      "Requirement already satisfied: ml-dtypes in /Users/aliyuyusuf/opt/anaconda3/lib/python3.9/site-packages (from Keras>=2.1.5->keras-utils) (0.3.2)\n",
      "Requirement already satisfied: numpy in /Users/aliyuyusuf/opt/anaconda3/lib/python3.9/site-packages (from Keras>=2.1.5->keras-utils) (1.26.4)\n",
      "Requirement already satisfied: rich in /Users/aliyuyusuf/opt/anaconda3/lib/python3.9/site-packages (from Keras>=2.1.5->keras-utils) (13.7.1)\n",
      "Requirement already satisfied: absl-py in /Users/aliyuyusuf/opt/anaconda3/lib/python3.9/site-packages (from Keras>=2.1.5->keras-utils) (1.3.0)\n",
      "Requirement already satisfied: typing-extensions>=4.5.0 in /Users/aliyuyusuf/opt/anaconda3/lib/python3.9/site-packages (from optree->Keras>=2.1.5->keras-utils) (4.9.0)\n",
      "Requirement already satisfied: pygments<3.0.0,>=2.13.0 in /Users/aliyuyusuf/opt/anaconda3/lib/python3.9/site-packages (from rich->Keras>=2.1.5->keras-utils) (2.17.2)\n",
      "Requirement already satisfied: markdown-it-py>=2.2.0 in /Users/aliyuyusuf/opt/anaconda3/lib/python3.9/site-packages (from rich->Keras>=2.1.5->keras-utils) (3.0.0)\n",
      "Requirement already satisfied: mdurl~=0.1 in /Users/aliyuyusuf/opt/anaconda3/lib/python3.9/site-packages (from markdown-it-py>=2.2.0->rich->Keras>=2.1.5->keras-utils) (0.1.2)\n",
      "Building wheels for collected packages: keras-utils\n",
      "  Building wheel for keras-utils (setup.py) ... \u001b[?25ldone\n",
      "\u001b[?25h  Created wheel for keras-utils: filename=keras_utils-1.0.13-py3-none-any.whl size=2656 sha256=f29f916c09aa67e1afd8a369dc7949bea79654e94b1cd151fa672a21f5f6e6f7\n",
      "  Stored in directory: /Users/aliyuyusuf/Library/Caches/pip/wheels/fd/b9/6e/25d4c3a3c0319873aeeab6592c5b4bb9e2af0fec21a0b5188c\n",
      "Successfully built keras-utils\n",
      "Installing collected packages: keras-utils\n",
      "Successfully installed keras-utils-1.0.13\n",
      "Note: you may need to restart the kernel to use updated packages.\n"
     ]
    }
   ],
   "source": [
    "pip install keras-utils"
   ]
  },
  {
   "cell_type": "code",
   "execution_count": null,
   "id": "47b6d779",
   "metadata": {},
   "outputs": [],
   "source": []
  },
  {
   "cell_type": "markdown",
   "id": "a3b02dfe",
   "metadata": {},
   "source": [
    "## <a id=\"5\">Splitting the Data</a>"
   ]
  },
  {
   "cell_type": "code",
   "execution_count": 64,
   "id": "0f39f7fd",
   "metadata": {},
   "outputs": [],
   "source": [
    "# Basic packages\n",
    "import pandas as pd \n",
    "import numpy as np\n",
    "import re\n",
    "import collections\n",
    "import matplotlib.pyplot as plt\n",
    "from pathlib import Path\n",
    "\n",
    "# Packages for data preparation\n",
    "from sklearn.model_selection import train_test_split\n",
    "from nltk.corpus import stopwords\n",
    "#from keras.preprocessing.text import Tokenizer\n",
    "from tensorflow.keras.preprocessing.text import Tokenizer\n",
    "from tensorflow.keras.preprocessing.sequence import pad_sequences\n",
    "from tensorflow.keras.utils import to_categorical\n",
    "\n",
    "\n",
    "#from tensorflow.keras.utils.to_categorical\n",
    "from sklearn.preprocessing import LabelEncoder\n",
    "\n",
    "# Packages for modeling\n",
    "from keras import models\n",
    "from keras import layers\n",
    "from keras import regularizers\n",
    "\n"
   ]
  },
  {
   "cell_type": "code",
   "execution_count": 65,
   "id": "91be458f",
   "metadata": {},
   "outputs": [],
   "source": [
    "NB_WORDS = 10000  # Parameter indicating the number of words we'll put in the dictionary\n",
    "VAL_SIZE = 1000  # Size of the validation set\n",
    "NB_START_EPOCHS = 20  # Number of epochs we usually start to train with\n",
    "BATCH_SIZE = 32  # Size of the batches used in the mini-batch gradient descent\n",
    "\n",
    "GLOVE_DIM = 100  # Number of dimensions of the GloVe word embeddings\n",
    "MAX_LEN = 120  # Maximum number of words in a sequence\n",
    "LEARNING_RATE = 1e-5\n",
    "DROPOUT_RATE=0.3"
   ]
  },
  {
   "cell_type": "code",
   "execution_count": 66,
   "id": "d64f448f",
   "metadata": {},
   "outputs": [
    {
     "data": {
      "text/html": [
       "<div>\n",
       "<style scoped>\n",
       "    .dataframe tbody tr th:only-of-type {\n",
       "        vertical-align: middle;\n",
       "    }\n",
       "\n",
       "    .dataframe tbody tr th {\n",
       "        vertical-align: top;\n",
       "    }\n",
       "\n",
       "    .dataframe thead th {\n",
       "        text-align: right;\n",
       "    }\n",
       "</style>\n",
       "<table border=\"1\" class=\"dataframe\">\n",
       "  <thead>\n",
       "    <tr style=\"text-align: right;\">\n",
       "      <th></th>\n",
       "      <th>ID</th>\n",
       "      <th>tweet</th>\n",
       "      <th>label</th>\n",
       "      <th>cleaned_tweet</th>\n",
       "    </tr>\n",
       "  </thead>\n",
       "  <tbody>\n",
       "    <tr>\n",
       "      <th>0</th>\n",
       "      <td>ha_train_00001</td>\n",
       "      <td>@user Da kudin da Arewa babu wani abin azo agani da yayi wa alummah allah ya isa yacucemu wlh yarikitamana kasa yarikitamana kasuwanci harkar ilimi harkar lfy hanyoyi babu lantarki dasuransu komai yalalace ga cinhanci da rashawa a fili ko ina a Nigeria jamiyaryar su tabataman mlm 😭🗣</td>\n",
       "      <td>0</td>\n",
       "      <td>kudin arewa babu abin azo agani yayi wa alummah allah isa yacucemu wlh yarikitamana kasa yarikitamana kasuwanci harkar ilimi harkar lfy hanyoyi babu lantarki dasuransu komai yalalace cinhanci rashawa fili nigeria jamiyaryar tabataman mlm 😭🗣</td>\n",
       "    </tr>\n",
       "    <tr>\n",
       "      <th>1</th>\n",
       "      <td>ha_train_00002</td>\n",
       "      <td>@user Kaga wani Adu ar Banda💔😭 wai a haka Shi ne shugaban sojoji.... Gaskiya Buhari kaci Amanan mu da kasa wannan mutum ah wajen nan</td>\n",
       "      <td>0</td>\n",
       "      <td>kaga adu ar banda💔😭 wai haka shugaban sojoji gaskiya buhari kaci amanan mu kasa mutum ah wajen nan</td>\n",
       "    </tr>\n",
       "    <tr>\n",
       "      <th>2</th>\n",
       "      <td>ha_train_00003</td>\n",
       "      <td>@user Sai haquri fa yan madrid daman kunce champion din ya muku yawa😂</td>\n",
       "      <td>0</td>\n",
       "      <td>haquri fa yan madrid daman kunce champion din muku yawa😂</td>\n",
       "    </tr>\n",
       "    <tr>\n",
       "      <th>3</th>\n",
       "      <td>ha_train_00004</td>\n",
       "      <td>@user Hmmm yanzu kai kasan girman allah daxakace mukuma ga Allah kune kukabarshi kuna karyata ayoyinsa kace allah baya karbar adduar talakan nigeria 🇳🇬 bayan kunzalunceshi kuma allah ya karbar adduar wanda aka zalunta cikin sauri amma kace wai Allah baya karbar addua talakawa</td>\n",
       "      <td>0</td>\n",
       "      <td>hmmm yanzu kai kasan girman allah daxakace mukuma allah kune kukabarshi kuna karyata ayoyinsa kace allah baya karbar adduar talakan nigeria 🇳🇬 bayan kunzalunceshi allah karbar adduar wanda aka zalunta sauri kace wai allah baya karbar addua talakawa</td>\n",
       "    </tr>\n",
       "    <tr>\n",
       "      <th>4</th>\n",
       "      <td>ha_train_00005</td>\n",
       "      <td>@user @user Wai gwamno nin Nigeria suna afa kwayoyi ko 😂</td>\n",
       "      <td>0</td>\n",
       "      <td>wai gwamno nin nigeria suna afa kwayoyi</td>\n",
       "    </tr>\n",
       "  </tbody>\n",
       "</table>\n",
       "</div>"
      ],
      "text/plain": [
       "               ID  \\\n",
       "0  ha_train_00001   \n",
       "1  ha_train_00002   \n",
       "2  ha_train_00003   \n",
       "3  ha_train_00004   \n",
       "4  ha_train_00005   \n",
       "\n",
       "                                                                                                                                                                                                                                                                                         tweet  \\\n",
       "0  @user Da kudin da Arewa babu wani abin azo agani da yayi wa alummah allah ya isa yacucemu wlh yarikitamana kasa yarikitamana kasuwanci harkar ilimi harkar lfy hanyoyi babu lantarki dasuransu komai yalalace ga cinhanci da rashawa a fili ko ina a Nigeria jamiyaryar su tabataman mlm 😭🗣   \n",
       "1                                                                                                                                                         @user Kaga wani Adu ar Banda💔😭 wai a haka Shi ne shugaban sojoji.... Gaskiya Buhari kaci Amanan mu da kasa wannan mutum ah wajen nan   \n",
       "2                                                                                                                                                                                                                        @user Sai haquri fa yan madrid daman kunce champion din ya muku yawa😂   \n",
       "3         @user Hmmm yanzu kai kasan girman allah daxakace mukuma ga Allah kune kukabarshi kuna karyata ayoyinsa kace allah baya karbar adduar talakan nigeria 🇳🇬 bayan kunzalunceshi kuma allah ya karbar adduar wanda aka zalunta cikin sauri amma kace wai Allah baya karbar addua talakawa   \n",
       "4                                                                                                                                                                                                                                     @user @user Wai gwamno nin Nigeria suna afa kwayoyi ko 😂   \n",
       "\n",
       "   label  \\\n",
       "0      0   \n",
       "1      0   \n",
       "2      0   \n",
       "3      0   \n",
       "4      0   \n",
       "\n",
       "                                                                                                                                                                                                                                              cleaned_tweet  \n",
       "0          kudin arewa babu abin azo agani yayi wa alummah allah isa yacucemu wlh yarikitamana kasa yarikitamana kasuwanci harkar ilimi harkar lfy hanyoyi babu lantarki dasuransu komai yalalace cinhanci rashawa fili nigeria jamiyaryar tabataman mlm 😭🗣  \n",
       "1                                                                                                                                                        kaga adu ar banda💔😭 wai haka shugaban sojoji gaskiya buhari kaci amanan mu kasa mutum ah wajen nan  \n",
       "2                                                                                                                                                                                                  haquri fa yan madrid daman kunce champion din muku yawa😂  \n",
       "3  hmmm yanzu kai kasan girman allah daxakace mukuma allah kune kukabarshi kuna karyata ayoyinsa kace allah baya karbar adduar talakan nigeria 🇳🇬 bayan kunzalunceshi allah karbar adduar wanda aka zalunta sauri kace wai allah baya karbar addua talakawa  \n",
       "4                                                                                                                                                                                                                   wai gwamno nin nigeria suna afa kwayoyi  "
      ]
     },
     "execution_count": 66,
     "metadata": {},
     "output_type": "execute_result"
    }
   ],
   "source": [
    "df.head()"
   ]
  },
  {
   "cell_type": "code",
   "execution_count": 67,
   "id": "fe3fc5f8",
   "metadata": {},
   "outputs": [
    {
     "data": {
      "text/plain": [
       "Index(['ID', 'tweet', 'label', 'cleaned_tweet'], dtype='object')"
      ]
     },
     "execution_count": 67,
     "metadata": {},
     "output_type": "execute_result"
    }
   ],
   "source": [
    "df.columns"
   ]
  },
  {
   "cell_type": "code",
   "execution_count": 68,
   "id": "fa793b89",
   "metadata": {},
   "outputs": [
    {
     "name": "stdout",
     "output_type": "stream",
     "text": [
      "cleaned_tweet\n",
      "<class 'str'>    16849\n",
      "Name: count, dtype: int64\n"
     ]
    }
   ],
   "source": [
    "print(df['cleaned_tweet'].apply(type).value_counts())"
   ]
  },
  {
   "cell_type": "code",
   "execution_count": 69,
   "id": "c26b6a26",
   "metadata": {},
   "outputs": [],
   "source": [
    "df = df[df['cleaned_tweet'].apply(lambda x: isinstance(x, str))]"
   ]
  },
  {
   "cell_type": "code",
   "execution_count": 70,
   "id": "9ddbfd3e",
   "metadata": {},
   "outputs": [
    {
     "name": "stdout",
     "output_type": "stream",
     "text": [
      "# Train data samples: 13479\n",
      "# Test data samples: 3370\n"
     ]
    }
   ],
   "source": [
    "X_train, X_test, y_train, y_test = train_test_split(df.cleaned_tweet, df.label, test_size=0.2, random_state=101)\n",
    "print('# Train data samples:', X_train.shape[0])\n",
    "print('# Test data samples:', X_test.shape[0])\n",
    "assert X_train.shape[0] == y_train.shape[0]\n",
    "assert X_test.shape[0] == y_test.shape[0]"
   ]
  },
  {
   "cell_type": "code",
   "execution_count": 71,
   "id": "c50dc1f1",
   "metadata": {},
   "outputs": [],
   "source": [
    "X_train = [str(x) for x in X_train]\n",
    "X_test = [str(x) for x in X_test]\n",
    "\n",
    "# Tokenize the text data\n",
    "tk = Tokenizer(num_words=NB_WORDS, split=\" \")\n",
    "tk.fit_on_texts(X_train)\n",
    "\n",
    "X_train_seq = tk.texts_to_sequences(X_train)\n",
    "X_test_seq = tk.texts_to_sequences(X_test)"
   ]
  },
  {
   "cell_type": "code",
   "execution_count": 22,
   "id": "36146f48",
   "metadata": {},
   "outputs": [],
   "source": []
  },
  {
   "cell_type": "code",
   "execution_count": 72,
   "id": "8b40eca0",
   "metadata": {},
   "outputs": [],
   "source": [
    "X_train_seq_trunc = pad_sequences(X_train_seq, maxlen=MAX_LEN, padding='post')\n",
    "X_test_seq_trunc = pad_sequences(X_test_seq, maxlen=MAX_LEN, padding='post')"
   ]
  },
  {
   "cell_type": "code",
   "execution_count": 73,
   "id": "06e8246e",
   "metadata": {},
   "outputs": [
    {
     "data": {
      "text/plain": [
       "array([   1,   44,   40,  131,  291,    1,   44,  263,   54,   99,    1,\n",
       "         24,    2,  459, 1890, 8757, 8758, 1171,  768, 1304,    0,    0,\n",
       "          0,    0,    0,    0,    0,    0,    0,    0,    0,    0,    0,\n",
       "          0,    0,    0,    0,    0,    0,    0,    0,    0,    0,    0,\n",
       "          0,    0,    0,    0,    0,    0,    0,    0,    0,    0,    0,\n",
       "          0,    0,    0,    0,    0,    0,    0,    0,    0,    0,    0,\n",
       "          0,    0,    0,    0,    0,    0,    0,    0,    0,    0,    0,\n",
       "          0,    0,    0,    0,    0,    0,    0,    0,    0,    0,    0,\n",
       "          0,    0,    0,    0,    0,    0,    0,    0,    0,    0,    0,\n",
       "          0,    0,    0,    0,    0,    0,    0,    0,    0,    0,    0,\n",
       "          0,    0,    0,    0,    0,    0,    0,    0,    0,    0],\n",
       "      dtype=int32)"
      ]
     },
     "execution_count": 73,
     "metadata": {},
     "output_type": "execute_result"
    }
   ],
   "source": [
    "X_train_seq_trunc[20]  # Example of padded sequence"
   ]
  },
  {
   "cell_type": "code",
   "execution_count": 74,
   "id": "30b1feb1",
   "metadata": {},
   "outputs": [],
   "source": [
    "le = LabelEncoder()\n",
    "y_train_le = le.fit_transform(y_train)\n",
    "y_test_le = le.transform(y_test)\n",
    "y_train_oh = to_categorical(y_train_le)\n",
    "y_test_oh = to_categorical(y_test_le)"
   ]
  },
  {
   "cell_type": "code",
   "execution_count": 75,
   "id": "8e59090d",
   "metadata": {},
   "outputs": [
    {
     "data": {
      "text/plain": [
       "array([0, 1, 0, ..., 1, 1, 2])"
      ]
     },
     "execution_count": 75,
     "metadata": {},
     "output_type": "execute_result"
    }
   ],
   "source": [
    "y_train_le"
   ]
  },
  {
   "cell_type": "code",
   "execution_count": null,
   "id": "4868af89",
   "metadata": {},
   "outputs": [],
   "source": []
  },
  {
   "cell_type": "markdown",
   "id": "a7e1fb35",
   "metadata": {},
   "source": [
    "The model overfits fast. Moreover the test accuracy is lower compared to the embeddings trained on the training data. \n",
    "\n",
    "As a final exercise, let's see what results we get when we train the embeddings with the same number of dimensions as the GloVe data.\n",
    "\n",
    "## Training without word embeddings"
   ]
  },
  {
   "cell_type": "code",
   "execution_count": 76,
   "id": "fd876f33",
   "metadata": {},
   "outputs": [],
   "source": [
    "\n",
    "from sklearn.model_selection import train_test_split\n",
    "from sklearn.metrics import confusion_matrix, classification_report\n",
    "from tensorflow.keras.preprocessing.sequence import pad_sequences\n",
    "from keras.models import Sequential\n",
    "from keras.callbacks import EarlyStopping\n",
    "from tensorflow.keras.optimizers import Adam\n",
    "#from keras.utils.np_utils import to_categorical\n",
    "from sklearn.preprocessing import LabelEncoder"
   ]
  },
  {
   "cell_type": "code",
   "execution_count": 86,
   "id": "c3e98e14",
   "metadata": {},
   "outputs": [],
   "source": []
  },
  {
   "cell_type": "markdown",
   "id": "a5efc977",
   "metadata": {},
   "source": [
    "### TRAINING CNN MODEL"
   ]
  },
  {
   "cell_type": "code",
   "execution_count": 77,
   "id": "d75b3c2b",
   "metadata": {},
   "outputs": [
    {
     "name": "stdout",
     "output_type": "stream",
     "text": [
      "Epoch 1/20\n"
     ]
    },
    {
     "name": "stderr",
     "output_type": "stream",
     "text": [
      "/Users/aliyuyusuf/opt/anaconda3/lib/python3.9/site-packages/keras/src/layers/convolutional/base_conv.py:107: UserWarning: Do not pass an `input_shape`/`input_dim` argument to a layer. When using Sequential models, prefer using an `Input(shape)` object as the first layer in the model instead.\n",
      "  super().__init__(activity_regularizer=activity_regularizer, **kwargs)\n"
     ]
    },
    {
     "name": "stdout",
     "output_type": "stream",
     "text": [
      "\u001b[1m380/380\u001b[0m \u001b[32m━━━━━━━━━━━━━━━━━━━━\u001b[0m\u001b[37m\u001b[0m \u001b[1m8s\u001b[0m 16ms/step - accuracy: 0.3650 - loss: 30.7478 - val_accuracy: 0.3909 - val_loss: 9.0889\n",
      "Epoch 2/20\n",
      "\u001b[1m380/380\u001b[0m \u001b[32m━━━━━━━━━━━━━━━━━━━━\u001b[0m\u001b[37m\u001b[0m \u001b[1m6s\u001b[0m 16ms/step - accuracy: 0.3751 - loss: 17.5319 - val_accuracy: 0.3702 - val_loss: 6.3678\n",
      "Epoch 3/20\n",
      "\u001b[1m380/380\u001b[0m \u001b[32m━━━━━━━━━━━━━━━━━━━━\u001b[0m\u001b[37m\u001b[0m \u001b[1m6s\u001b[0m 15ms/step - accuracy: 0.3611 - loss: 12.7419 - val_accuracy: 0.3954 - val_loss: 5.1526\n",
      "Epoch 4/20\n",
      "\u001b[1m380/380\u001b[0m \u001b[32m━━━━━━━━━━━━━━━━━━━━\u001b[0m\u001b[37m\u001b[0m \u001b[1m6s\u001b[0m 15ms/step - accuracy: 0.3615 - loss: 9.4687 - val_accuracy: 0.3880 - val_loss: 4.2706\n",
      "Epoch 5/20\n",
      "\u001b[1m380/380\u001b[0m \u001b[32m━━━━━━━━━━━━━━━━━━━━\u001b[0m\u001b[37m\u001b[0m \u001b[1m6s\u001b[0m 15ms/step - accuracy: 0.3656 - loss: 7.1529 - val_accuracy: 0.4169 - val_loss: 3.4635\n",
      "Epoch 6/20\n",
      "\u001b[1m380/380\u001b[0m \u001b[32m━━━━━━━━━━━━━━━━━━━━\u001b[0m\u001b[37m\u001b[0m \u001b[1m6s\u001b[0m 16ms/step - accuracy: 0.3756 - loss: 5.1096 - val_accuracy: 0.4043 - val_loss: 2.9329\n",
      "Epoch 7/20\n",
      "\u001b[1m380/380\u001b[0m \u001b[32m━━━━━━━━━━━━━━━━━━━━\u001b[0m\u001b[37m\u001b[0m \u001b[1m6s\u001b[0m 16ms/step - accuracy: 0.3724 - loss: 3.9737 - val_accuracy: 0.4028 - val_loss: 2.3760\n",
      "Epoch 8/20\n",
      "\u001b[1m380/380\u001b[0m \u001b[32m━━━━━━━━━━━━━━━━━━━━\u001b[0m\u001b[37m\u001b[0m \u001b[1m6s\u001b[0m 16ms/step - accuracy: 0.3776 - loss: 2.8998 - val_accuracy: 0.4095 - val_loss: 2.0480\n",
      "Epoch 9/20\n",
      "\u001b[1m380/380\u001b[0m \u001b[32m━━━━━━━━━━━━━━━━━━━━\u001b[0m\u001b[37m\u001b[0m \u001b[1m6s\u001b[0m 16ms/step - accuracy: 0.3842 - loss: 2.3638 - val_accuracy: 0.4021 - val_loss: 1.8050\n",
      "Epoch 10/20\n",
      "\u001b[1m380/380\u001b[0m \u001b[32m━━━━━━━━━━━━━━━━━━━━\u001b[0m\u001b[37m\u001b[0m \u001b[1m6s\u001b[0m 16ms/step - accuracy: 0.3734 - loss: 1.9528 - val_accuracy: 0.4050 - val_loss: 1.5773\n",
      "Epoch 11/20\n",
      "\u001b[1m380/380\u001b[0m \u001b[32m━━━━━━━━━━━━━━━━━━━━\u001b[0m\u001b[37m\u001b[0m \u001b[1m6s\u001b[0m 16ms/step - accuracy: 0.3907 - loss: 1.6169 - val_accuracy: 0.4154 - val_loss: 1.4003\n",
      "Epoch 12/20\n",
      "\u001b[1m380/380\u001b[0m \u001b[32m━━━━━━━━━━━━━━━━━━━━\u001b[0m\u001b[37m\u001b[0m \u001b[1m6s\u001b[0m 17ms/step - accuracy: 0.3838 - loss: 1.3998 - val_accuracy: 0.4058 - val_loss: 1.2817\n",
      "Epoch 13/20\n",
      "\u001b[1m380/380\u001b[0m \u001b[32m━━━━━━━━━━━━━━━━━━━━\u001b[0m\u001b[37m\u001b[0m \u001b[1m6s\u001b[0m 16ms/step - accuracy: 0.3896 - loss: 1.3099 - val_accuracy: 0.4102 - val_loss: 1.2279\n",
      "Epoch 14/20\n",
      "\u001b[1m380/380\u001b[0m \u001b[32m━━━━━━━━━━━━━━━━━━━━\u001b[0m\u001b[37m\u001b[0m \u001b[1m6s\u001b[0m 16ms/step - accuracy: 0.3823 - loss: 1.2394 - val_accuracy: 0.4110 - val_loss: 1.1967\n",
      "Epoch 15/20\n",
      "\u001b[1m380/380\u001b[0m \u001b[32m━━━━━━━━━━━━━━━━━━━━\u001b[0m\u001b[37m\u001b[0m \u001b[1m6s\u001b[0m 16ms/step - accuracy: 0.3871 - loss: 1.1572 - val_accuracy: 0.4088 - val_loss: 1.1728\n",
      "Epoch 16/20\n",
      "\u001b[1m380/380\u001b[0m \u001b[32m━━━━━━━━━━━━━━━━━━━━\u001b[0m\u001b[37m\u001b[0m \u001b[1m6s\u001b[0m 16ms/step - accuracy: 0.3826 - loss: 1.1560 - val_accuracy: 0.3984 - val_loss: 1.1578\n",
      "Epoch 17/20\n",
      "\u001b[1m380/380\u001b[0m \u001b[32m━━━━━━━━━━━━━━━━━━━━\u001b[0m\u001b[37m\u001b[0m \u001b[1m6s\u001b[0m 17ms/step - accuracy: 0.3705 - loss: 1.1199 - val_accuracy: 0.3895 - val_loss: 1.1512\n",
      "Epoch 18/20\n",
      "\u001b[1m380/380\u001b[0m \u001b[32m━━━━━━━━━━━━━━━━━━━━\u001b[0m\u001b[37m\u001b[0m \u001b[1m6s\u001b[0m 16ms/step - accuracy: 0.3795 - loss: 1.1117 - val_accuracy: 0.3880 - val_loss: 1.1426\n",
      "Epoch 19/20\n",
      "\u001b[1m380/380\u001b[0m \u001b[32m━━━━━━━━━━━━━━━━━━━━\u001b[0m\u001b[37m\u001b[0m \u001b[1m6s\u001b[0m 16ms/step - accuracy: 0.3900 - loss: 1.1043 - val_accuracy: 0.3858 - val_loss: 1.1423\n",
      "Epoch 20/20\n",
      "\u001b[1m380/380\u001b[0m \u001b[32m━━━━━━━━━━━━━━━━━━━━\u001b[0m\u001b[37m\u001b[0m \u001b[1m6s\u001b[0m 16ms/step - accuracy: 0.3785 - loss: 1.0848 - val_accuracy: 0.3843 - val_loss: 1.1287\n",
      "Epoch 1/20\n",
      "\u001b[1m380/380\u001b[0m \u001b[32m━━━━━━━━━━━━━━━━━━━━\u001b[0m\u001b[37m\u001b[0m \u001b[1m6s\u001b[0m 16ms/step - accuracy: 0.3863 - loss: 1.1033 - val_accuracy: 0.3895 - val_loss: 1.1211\n",
      "Epoch 2/20\n",
      "\u001b[1m380/380\u001b[0m \u001b[32m━━━━━━━━━━━━━━━━━━━━\u001b[0m\u001b[37m\u001b[0m \u001b[1m6s\u001b[0m 17ms/step - accuracy: 0.3799 - loss: 1.0839 - val_accuracy: 0.3880 - val_loss: 1.1197\n",
      "Epoch 3/20\n",
      "\u001b[1m380/380\u001b[0m \u001b[32m━━━━━━━━━━━━━━━━━━━━\u001b[0m\u001b[37m\u001b[0m \u001b[1m7s\u001b[0m 17ms/step - accuracy: 0.3817 - loss: 1.0925 - val_accuracy: 0.4199 - val_loss: 1.1103\n",
      "Epoch 4/20\n",
      "\u001b[1m380/380\u001b[0m \u001b[32m━━━━━━━━━━━━━━━━━━━━\u001b[0m\u001b[37m\u001b[0m \u001b[1m6s\u001b[0m 16ms/step - accuracy: 0.3996 - loss: 1.0884 - val_accuracy: 0.4117 - val_loss: 1.1244\n",
      "Epoch 5/20\n",
      "\u001b[1m380/380\u001b[0m \u001b[32m━━━━━━━━━━━━━━━━━━━━\u001b[0m\u001b[37m\u001b[0m \u001b[1m6s\u001b[0m 16ms/step - accuracy: 0.4015 - loss: 1.0733 - val_accuracy: 0.4132 - val_loss: 1.1183\n",
      "Epoch 6/20\n",
      "\u001b[1m380/380\u001b[0m \u001b[32m━━━━━━━━━━━━━━━━━━━━\u001b[0m\u001b[37m\u001b[0m \u001b[1m6s\u001b[0m 16ms/step - accuracy: 0.4140 - loss: 1.0735 - val_accuracy: 0.4169 - val_loss: 1.1178\n",
      "Epoch 7/20\n",
      "\u001b[1m380/380\u001b[0m \u001b[32m━━━━━━━━━━━━━━━━━━━━\u001b[0m\u001b[37m\u001b[0m \u001b[1m6s\u001b[0m 17ms/step - accuracy: 0.4074 - loss: 1.0709 - val_accuracy: 0.4162 - val_loss: 1.1192\n",
      "Epoch 8/20\n",
      "\u001b[1m380/380\u001b[0m \u001b[32m━━━━━━━━━━━━━━━━━━━━\u001b[0m\u001b[37m\u001b[0m \u001b[1m6s\u001b[0m 16ms/step - accuracy: 0.3987 - loss: 1.0726 - val_accuracy: 0.4184 - val_loss: 1.1079\n",
      "Epoch 9/20\n",
      "\u001b[1m380/380\u001b[0m \u001b[32m━━━━━━━━━━━━━━━━━━━━\u001b[0m\u001b[37m\u001b[0m \u001b[1m6s\u001b[0m 16ms/step - accuracy: 0.4009 - loss: 1.0709 - val_accuracy: 0.4236 - val_loss: 1.1012\n",
      "Epoch 10/20\n",
      "\u001b[1m380/380\u001b[0m \u001b[32m━━━━━━━━━━━━━━━━━━━━\u001b[0m\u001b[37m\u001b[0m \u001b[1m6s\u001b[0m 16ms/step - accuracy: 0.4042 - loss: 1.0672 - val_accuracy: 0.4221 - val_loss: 1.1018\n",
      "Epoch 11/20\n",
      "\u001b[1m380/380\u001b[0m \u001b[32m━━━━━━━━━━━━━━━━━━━━\u001b[0m\u001b[37m\u001b[0m \u001b[1m6s\u001b[0m 16ms/step - accuracy: 0.4076 - loss: 1.0649 - val_accuracy: 0.4228 - val_loss: 1.1005\n",
      "Epoch 12/20\n",
      "\u001b[1m380/380\u001b[0m \u001b[32m━━━━━━━━━━━━━━━━━━━━\u001b[0m\u001b[37m\u001b[0m \u001b[1m6s\u001b[0m 16ms/step - accuracy: 0.4061 - loss: 1.0692 - val_accuracy: 0.4243 - val_loss: 1.0998\n",
      "Epoch 13/20\n",
      "\u001b[1m380/380\u001b[0m \u001b[32m━━━━━━━━━━━━━━━━━━━━\u001b[0m\u001b[37m\u001b[0m \u001b[1m6s\u001b[0m 16ms/step - accuracy: 0.4107 - loss: 1.0612 - val_accuracy: 0.4236 - val_loss: 1.1073\n",
      "Epoch 14/20\n",
      "\u001b[1m380/380\u001b[0m \u001b[32m━━━━━━━━━━━━━━━━━━━━\u001b[0m\u001b[37m\u001b[0m \u001b[1m7s\u001b[0m 17ms/step - accuracy: 0.4078 - loss: 1.0589 - val_accuracy: 0.4199 - val_loss: 1.1069\n",
      "Epoch 15/20\n",
      "\u001b[1m380/380\u001b[0m \u001b[32m━━━━━━━━━━━━━━━━━━━━\u001b[0m\u001b[37m\u001b[0m \u001b[1m7s\u001b[0m 19ms/step - accuracy: 0.4083 - loss: 1.0606 - val_accuracy: 0.4206 - val_loss: 1.1046\n",
      "Epoch 16/20\n",
      "\u001b[1m380/380\u001b[0m \u001b[32m━━━━━━━━━━━━━━━━━━━━\u001b[0m\u001b[37m\u001b[0m \u001b[1m6s\u001b[0m 17ms/step - accuracy: 0.4032 - loss: 1.0668 - val_accuracy: 0.4243 - val_loss: 1.1113\n",
      "Epoch 17/20\n",
      "\u001b[1m380/380\u001b[0m \u001b[32m━━━━━━━━━━━━━━━━━━━━\u001b[0m\u001b[37m\u001b[0m \u001b[1m6s\u001b[0m 17ms/step - accuracy: 0.4087 - loss: 1.0607 - val_accuracy: 0.4228 - val_loss: 1.1080\n",
      "Epoch 18/20\n",
      "\u001b[1m380/380\u001b[0m \u001b[32m━━━━━━━━━━━━━━━━━━━━\u001b[0m\u001b[37m\u001b[0m \u001b[1m6s\u001b[0m 16ms/step - accuracy: 0.4104 - loss: 1.0580 - val_accuracy: 0.4236 - val_loss: 1.1025\n",
      "Epoch 19/20\n",
      "\u001b[1m380/380\u001b[0m \u001b[32m━━━━━━━━━━━━━━━━━━━━\u001b[0m\u001b[37m\u001b[0m \u001b[1m6s\u001b[0m 16ms/step - accuracy: 0.4165 - loss: 1.0538 - val_accuracy: 0.4273 - val_loss: 1.1092\n",
      "Epoch 20/20\n",
      "\u001b[1m380/380\u001b[0m \u001b[32m━━━━━━━━━━━━━━━━━━━━\u001b[0m\u001b[37m\u001b[0m \u001b[1m6s\u001b[0m 16ms/step - accuracy: 0.4149 - loss: 1.0539 - val_accuracy: 0.4273 - val_loss: 1.1002\n",
      "===================================================================================================\n",
      "\n",
      "\u001b[1m106/106\u001b[0m \u001b[32m━━━━━━━━━━━━━━━━━━━━\u001b[0m\u001b[37m\u001b[0m \u001b[1m0s\u001b[0m 4ms/step\n",
      "===================================================================================================\n",
      "\n",
      "Classification Report for CNN Model:\n",
      "               precision    recall  f1-score   support\n",
      "\n",
      "           0       0.41      0.28      0.33      1087\n",
      "           1       0.42      0.65      0.51      1150\n",
      "           2       0.36      0.27      0.31      1133\n",
      "\n",
      "    accuracy                           0.40      3370\n",
      "   macro avg       0.39      0.40      0.38      3370\n",
      "weighted avg       0.39      0.40      0.38      3370\n",
      "\n",
      "===================================================================================================\n",
      "\n",
      "Test loss and accuracy value \n",
      "Test loss: 1.138614535331726\n",
      "Test accuracy: 0.40059345960617065\n",
      "===================================================================================================\n",
      "\n",
      "Train and validation curve\n"
     ]
    },
    {
     "data": {
      "image/png": "[encoded data removed]",
      "text/plain": [
       "<Figure size 432x288 with 1 Axes>"
      ]
     },
     "metadata": {},
     "output_type": "display_data"
    },
    {
     "name": "stdout",
     "output_type": "stream",
     "text": [
      "===================================================================================================\n",
      "\n"
     ]
    },
    {
     "data": {
      "image/png": "[encoded data removed]",
      "text/plain": [
       "<Figure size 576x432 with 2 Axes>"
      ]
     },
     "metadata": {},
     "output_type": "display_data"
    }
   ],
   "source": [
    "# Load and preprocess your data (replace 'df.tweet' and 'df.label' with your data)\n",
    "X_train, X_test, y_train, y_test = train_test_split(df.cleaned_tweet, df.label, test_size=0.2, random_state=101)\n",
    "tokenizer = Tokenizer(num_words=NB_WORDS, split=\" \")\n",
    "tokenizer.fit_on_texts(X_train)\n",
    "\n",
    "\n",
    "\n",
    "\n",
    "from keras.layers import Conv1D, MaxPooling1D, Flatten, Dense, Dropout\n",
    "from keras.callbacks import EarlyStopping\n",
    "from sklearn.metrics import confusion_matrix, classification_report\n",
    "from tensorflow.keras.optimizers import Adam\n",
    "from keras.layers import Dropout\n",
    "\n",
    "X_train_seq = tokenizer.texts_to_sequences(X_train)\n",
    "X_test_seq = tokenizer.texts_to_sequences(X_test)\n",
    "X_train_seq = pad_sequences(X_train_seq, maxlen=MAX_LEN)\n",
    "X_test_seq = pad_sequences(X_test_seq, maxlen=MAX_LEN)\n",
    "label_encoder = LabelEncoder()\n",
    "y_train = label_encoder.fit_transform(y_train)\n",
    "y_test = label_encoder.transform(y_test)\n",
    "y_train = to_categorical(y_train)\n",
    "y_test = to_categorical(y_test)\n",
    "\n",
    "# Reshape the input data to have three dimensions\n",
    "X_train_seq = X_train_seq.reshape(X_train_seq.shape[0], X_train_seq.shape[1], 1)\n",
    "X_test_seq = X_test_seq.reshape(X_test_seq.shape[0], X_test_seq.shape[1], 1)\n",
    "\n",
    "# ...\n",
    "\n",
    "# Define the CNN model without embedding layer\n",
    "cnn_model = Sequential()\n",
    "cnn_model.add(Conv1D(128, 3, activation='relu', input_shape=(MAX_LEN, 1)))\n",
    "cnn_model.add(MaxPooling1D(2))\n",
    "cnn_model.add(Conv1D(128, 3, activation='relu'))\n",
    "cnn_model.add(MaxPooling1D(2))\n",
    "cnn_model.add(Flatten())\n",
    "cnn_model.add(Dense(128, activation='relu'))\n",
    "cnn_model.add(Dropout(DROPOUT_RATE))\n",
    "cnn_model.add(Dense(3, activation='softmax'))\n",
    "\n",
    "cnn_model.compile(optimizer=Adam(learning_rate=LEARNING_RATE), \n",
    "                  loss='categorical_crossentropy', \n",
    "                  metrics=['accuracy'])\n",
    "\n",
    "history = cnn_model.fit(X_train_seq, y_train, \n",
    "                        epochs=NB_START_EPOCHS, \n",
    "                        batch_size=BATCH_SIZE,\n",
    "                        validation_split=0.1, \n",
    "                        #callbacks=[early_stopping], \n",
    "                        verbose=1)\n",
    "\n",
    "# Train the model\n",
    "history = cnn_model.fit(X_train_seq, y_train, epochs=NB_START_EPOCHS, batch_size=BATCH_SIZE,\n",
    "                        validation_split=0.1, verbose=1)\n",
    "\n",
    "# Evaluate the model on test data\n",
    "loss, accuracy = cnn_model.evaluate(X_test_seq, y_test, verbose=0)\n",
    "\n",
    "print(\"===================================================================================================\\n\")\n",
    "# Get predictions on the test data\n",
    "y_pred = cnn_model.predict(X_test_seq)\n",
    "y_pred_classes = np.argmax(y_pred, axis=1)  # Convert predicted probabilities to class labels\n",
    "\n",
    "# Calculate and print the classification report\n",
    "print(\"===================================================================================================\\n\")\n",
    "report_CNN = classification_report(np.argmax(y_test, axis=1), y_pred_classes)\n",
    "print(\"Classification Report for CNN Model:\\n\", report_CNN)\n",
    "\n",
    "print(\"===================================================================================================\\n\")\n",
    "print('Test loss and accuracy value ')\n",
    "# Print test loss and accuracy\n",
    "print('Test loss:', loss)\n",
    "print('Test accuracy:', accuracy)\n",
    "print(\"===================================================================================================\\n\")\n",
    "\n",
    "print('Train and validation curve')\n",
    "# Plot training history (optional)\n",
    "plt.plot(history.history['accuracy'], label='Train Accuracy')\n",
    "plt.plot(history.history['val_accuracy'], label='Validation Accuracy')\n",
    "plt.xlabel('Epochs')\n",
    "plt.ylabel('Accuracy')\n",
    "plt.legend()\n",
    "plt.show()\n",
    "\n",
    "print(\"===================================================================================================\\n\")\n",
    "# Calculate the confusion matrix\n",
    "confusion_matrix = confusion_matrix(np.argmax(y_test, axis=1), y_pred_classes)\n",
    "\n",
    "# Plot the confusion matrix as a heatmap\n",
    "plt.figure(figsize=(8, 6))\n",
    "sns.heatmap(confusion_matrix, annot=True, fmt='d', cmap='Blues')\n",
    "plt.xlabel('Predicted class ')\n",
    "plt.ylabel('True class')\n",
    "plt.title('Confusion Matrix')\n",
    "plt.show()"
   ]
  },
  {
   "cell_type": "code",
   "execution_count": null,
   "id": "b08eea46",
   "metadata": {},
   "outputs": [],
   "source": []
  },
  {
   "cell_type": "code",
   "execution_count": null,
   "id": "e7a2757a",
   "metadata": {},
   "outputs": [],
   "source": []
  },
  {
   "cell_type": "code",
   "execution_count": null,
   "id": "b3f05c9b",
   "metadata": {},
   "outputs": [],
   "source": []
  }
 ],
 "metadata": {
  "kernelspec": {
   "display_name": "Python 3 (ipykernel)",
   "language": "python",
   "name": "python3"
  },
  "language_info": {
   "codemirror_mode": {
    "name": "ipython",
    "version": 3
   },
   "file_extension": ".py",
   "mimetype": "text/x-python",
   "name": "python",
   "nbconvert_exporter": "python",
   "pygments_lexer": "ipython3",
   "version": "3.9.12"
  }
 },
 "nbformat": 4,
 "nbformat_minor": 5
}
